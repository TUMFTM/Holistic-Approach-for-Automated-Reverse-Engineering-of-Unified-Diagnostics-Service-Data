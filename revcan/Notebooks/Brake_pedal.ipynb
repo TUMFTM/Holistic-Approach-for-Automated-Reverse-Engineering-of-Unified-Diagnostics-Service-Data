{
 "cells": [
  {
   "cell_type": "markdown",
   "metadata": {},
   "source": [
    "# Brake Pedal Experiments\n",
    "\n",
    "## Imports"
   ]
  },
  {
   "cell_type": "code",
   "execution_count": 2,
   "metadata": {},
   "outputs": [],
   "source": [
    "from pathlib import Path\n",
    "from datetime import date\n",
    "import os\n",
    "from typing import List\n",
    "from copy import deepcopy\n",
    "from revcan.reverse_engineering.models.experiment import Experiment, Extern_Alphanumeric_Signal"
   ]
  },
  {
   "cell_type": "markdown",
   "metadata": {},
   "source": [
    "## Create Necessary Experiment Files\n",
    "\n",
    "### TODO: \n",
    "Set & check the following parameters:\n",
    "- **Car Model File Name**: Specify the name of the car model file (`{model}_{vin}_{date-created}.json`).\n",
    "- **Car Model Directory**: Check the directory path where the car model file is stored (Default: `../../data/car_metadata`).\n",
    "- **Experiment Folder**: Set the path for the experiment folder where the results will be saved (Default: `../../data/experiments/{car}/{experiment}/{date-today}`)."
   ]
  },
  {
   "cell_type": "code",
   "execution_count": null,
   "metadata": {},
   "outputs": [],
   "source": [
    "car_model_file_name = \"model_vin_date-created.json\" # TODO: Set correct car model file name\n",
    "car_model_dir = \"../../data/car_metadata\" # TODO: Check directory of car model file\n",
    "experiment_folder = \"../../data/experiments/car/brake_pedal/\" + date.today().strftime(\"%Y-%m-%d\") # TODO: Set directory where experiment files should be saved to\n",
    "\n",
    "\n",
    "car_model_file = f\"{car_model_dir}/{car_model_file_name}\"\n",
    "car_model_file_path = os.path.abspath(car_model_file)\n",
    "Path(experiment_folder).mkdir(parents=True, exist_ok=True)\n",
    "\n",
    "\n",
    "brake_pedal_status = [\"brake_pedal_activated\", \"brake_pedal_deactivated\"]\n",
    "\n",
    "#create experiments\n",
    "for status in brake_pedal_status:\n",
    "\n",
    "    experiment_file_path = os.path.join(experiment_folder, f\"{status}.json\")\n",
    "    experiment_name = f\"{status}\"\n",
    "    experiment_description = \"brake pedal activation signal discovery.\"\n",
    "    signal_selection =\"all\"\n",
    "    print(f\"Experiment file path: {experiment_file_path}\")\n",
    "    !python ../scripts_for_doip_new/04_create_experiment.py --car_model_file_path {car_model_file_path} --experiment_file_path '{experiment_file_path}' --experiment_name '{experiment_name}' --experiment_description '{experiment_description}' --signal_selection {signal_selection}\n"
   ]
  },
  {
   "cell_type": "markdown",
   "metadata": {},
   "source": [
    "## [Optional]: Set Experiment Names manually"
   ]
  },
  {
   "cell_type": "code",
   "execution_count": null,
   "metadata": {},
   "outputs": [],
   "source": [
    "car_model_file_name = \"model_vin_date-created.json\"\n",
    "car_model_dir = \"../../data/car_metadata\"\n",
    "experiment_folder = \"../../data/experiments/car/brake_pedal/\"\n",
    "brake_pedal_status = [\"brake_pedal_activated\", \"brake_pedal_deactivated\"]\n",
    "\n",
    "car_model_file = f\"{car_model_dir}/{car_model_file_name}\"\n",
    "car_model_file_path = os.path.abspath(car_model_file)\n",
    "Path(experiment_folder).mkdir(parents=True, exist_ok=True)"
   ]
  },
  {
   "cell_type": "markdown",
   "metadata": {},
   "source": [
    "## 1. Measurements\n",
    "\n",
    "For each status 5 measurements will be taken.\n",
    "\n",
    "### 1.1 Experiment 1: Brake pedal not activated\n",
    "\n",
    "Before executing the next Cell: Make sure the brake lights are not activated "
   ]
  },
  {
   "cell_type": "code",
   "execution_count": null,
   "metadata": {},
   "outputs": [],
   "source": [
    "!python ../scripts_for_doip_new/05_read_data.py --experiment_file_path '{os.path.join(experiment_folder, \"brake_pedal_deactivated\"+\".json\")}' --activate_logging true --num_samples 3"
   ]
  },
  {
   "cell_type": "markdown",
   "metadata": {},
   "source": [
    "### 1.2 Experiment 2: Brake pedal activated\n",
    "\n",
    "Before executing the next Cell: Activate the brake pedal for the whole time of the experiment"
   ]
  },
  {
   "cell_type": "code",
   "execution_count": null,
   "metadata": {},
   "outputs": [],
   "source": [
    "!python ../scripts_for_doip_new/05_read_data.py --experiment_file_path '{os.path.join(experiment_folder, \"brake_pedal_activated\"+\".json\")}' --activate_logging true --num_samples 3"
   ]
  },
  {
   "cell_type": "markdown",
   "metadata": {},
   "source": [
    "## [Optional] Display Experiment Metadata"
   ]
  },
  {
   "cell_type": "code",
   "execution_count": null,
   "metadata": {},
   "outputs": [],
   "source": [
    "# Display Experiment\n",
    "for state in brake_pedal_status:\n",
    "    experiment_file = os.path.join(experiment_folder, f\"{state}.json\")\n",
    "    !python ../scripts_for_doip_new/display_experiment_metadata.py --experiment_file_path \"{experiment_file}\""
   ]
  },
  {
   "cell_type": "markdown",
   "metadata": {},
   "source": [
    "## Load Experiments\n",
    "\n",
    "Load all relevant experiments needed for this analysis"
   ]
  },
  {
   "cell_type": "code",
   "execution_count": null,
   "metadata": {},
   "outputs": [],
   "source": [
    "experiment_files = {}\n",
    "experiments = {}\n",
    "\n",
    "for state in brake_pedal_status:\n",
    "    experiment_files[state] = os.path.join(experiment_folder, f\"{state}.json\")\n",
    "    experiments[state] = Experiment.load(experiment_files[state])"
   ]
  },
  {
   "cell_type": "markdown",
   "metadata": {},
   "source": [
    "## Add Ground truth\n",
    "Add ground truth data for steering wheel angle. By experiment design these are fixed values, and are added manually in this case"
   ]
  },
  {
   "cell_type": "code",
   "execution_count": null,
   "metadata": {},
   "outputs": [],
   "source": [
    "for state in brake_pedal_status:\n",
    "    experiments[state].external_alphanumeric_measurements.append(Extern_Alphanumeric_Signal( name = \"Brake_Pedal_Status\", id = 1, values = []))\n",
    "    values:List[str] = []\n",
    "    for value in experiments[state].measurements[0].values:\n",
    "        values.append(state)\n",
    "    experiments[state].external_alphanumeric_measurements[0].name = \"Brake_Pedal_Status\"\n",
    "    experiments[state].external_alphanumeric_measurements[0].values = deepcopy(values)\n",
    "    print(f\"Experiment gear {state}: {len(experiments[state].external_alphanumeric_measurements[0].values)} ground truth values\")"
   ]
  },
  {
   "cell_type": "markdown",
   "metadata": {},
   "source": [
    "## Concat all experiments to combined_experiment"
   ]
  },
  {
   "cell_type": "code",
   "execution_count": null,
   "metadata": {},
   "outputs": [],
   "source": [
    "combined_experiment_file_name = \"experiment_non_constant_signals\"\n",
    "combined_experiment_file_path = os.path.join(experiment_folder, f\"{combined_experiment_file_name}.json\")\n",
    "combined_experiment_name = f\"Non constant signals for brake pedal activation experiment\"\n",
    "combined_experiment_description = f\"Non constant signals for brake pedal activation experiment\"\n",
    "signal_selection =\"all\"\n",
    "print(f\"Experiment file path: {combined_experiment_file_path}\")\n",
    "!python ../scripts_for_doip_new/04_create_experiment.py --car_model_file_path {car_model_file_path} --experiment_file_path '{combined_experiment_file_path}' --experiment_name '{combined_experiment_name}' --experiment_description '{combined_experiment_description}' --signal_selection {signal_selection}\n",
    "\n",
    "#experiment_file = os.path.join(experiment_folder, f\"{combined_experiment_file_name}.json\")\n",
    "combined_experiment = Experiment.load(combined_experiment_file_path)\n",
    "combined_experiment.external_alphanumeric_measurements.append(Extern_Alphanumeric_Signal( name = \"Brake_Pedal_Status\", id = 1, values = []))\n",
    "\n",
    "for state in brake_pedal_status:\n",
    "    combined_experiment.experiment_runtime_seconds += experiments[state].experiment_runtime_seconds\n",
    "    for measurement in experiments[state].measurements:\n",
    "            for x in combined_experiment.measurements:\n",
    "                if x.serverid == measurement.serverid:\n",
    "                    if x.did == measurement.did:\n",
    "                        x.values.extend(measurement.values)\n",
    "    combined_experiment.external_alphanumeric_measurements[0].values.extend(experiments[state].external_alphanumeric_measurements[0].values)\n"
   ]
  },
  {
   "cell_type": "markdown",
   "metadata": {},
   "source": [
    "## Filter\n",
    "\n",
    "Keep only non constant signals"
   ]
  },
  {
   "cell_type": "code",
   "execution_count": null,
   "metadata": {},
   "outputs": [],
   "source": [
    "number_measurements = len(combined_experiment.measurements)\n",
    "print(f\"Experiment contains {number_measurements} measurements before filtering\", )\n",
    "print(\"Applaying remove constant values filter\")\n",
    "\n",
    "combined_experiment.keep_non_constant_signals(combined_experiment)\n",
    "\n",
    "number_measurements = len(combined_experiment.measurements)\n",
    "print(f\"Experiment contains {number_measurements} measurements after filtering\", )"
   ]
  },
  {
   "cell_type": "markdown",
   "metadata": {},
   "source": [
    "## Save combined experiment file"
   ]
  },
  {
   "cell_type": "code",
   "execution_count": null,
   "metadata": {},
   "outputs": [],
   "source": [
    "combined_experiment_file = os.path.join(experiment_folder, f\"experiment_non_constant_signals.json\")\n",
    "combined_experiment.save(f\"{combined_experiment_file}\")\n",
    "!python ../scripts_for_doip_new/display_experiment_metadata.py --experiment_file_path \"{combined_experiment_file}\""
   ]
  },
  {
   "cell_type": "markdown",
   "metadata": {},
   "source": [
    "## [OPTIONAL] Remove all previously found constant signals from individual experiments"
   ]
  },
  {
   "cell_type": "code",
   "execution_count": null,
   "metadata": {},
   "outputs": [],
   "source": [
    "for state in brake_pedal_status:\n",
    "    experiments[state].keep_signals_by_list(signals_list=combined_experiment.measurements)\n",
    "    experiment_file = os.path.join(experiment_folder, f\"{state}.json\")\n",
    "    experiments[state].save(f\"{experiment_file}\")\n",
    "    !python ../scripts_for_doip_new/display_experiment_metadata.py --experiment_file_path \"{experiment_file}\""
   ]
  }
 ],
 "metadata": {
  "kernelspec": {
   "display_name": "revcan-Tm9u8sAl-py3.10",
   "language": "python",
   "name": "python3"
  },
  "language_info": {
   "codemirror_mode": {
    "name": "ipython",
    "version": 3
   },
   "file_extension": ".py",
   "mimetype": "text/x-python",
   "name": "python",
   "nbconvert_exporter": "python",
   "pygments_lexer": "ipython3",
   "version": "3.10.12"
  }
 },
 "nbformat": 4,
 "nbformat_minor": 2
}
