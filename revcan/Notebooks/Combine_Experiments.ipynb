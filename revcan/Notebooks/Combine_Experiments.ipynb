{
 "cells": [
  {
   "cell_type": "markdown",
   "metadata": {},
   "source": [
    "# Combine Experiments\n",
    "\n",
    "Notebook is used to craft individual experiment files from other experiment files (e.g. Gear D1 experiment from vehicle speed experiments).\n",
    "\n",
    "## Imports"
   ]
  },
  {
   "cell_type": "code",
   "execution_count": 1,
   "metadata": {},
   "outputs": [],
   "source": [
    "from pathlib import Path\n",
    "from datetime import date\n",
    "import os\n",
    "import subprocess\n",
    "import random\n",
    "from copy import deepcopy\n",
    "from typing import List\n",
    "from revcan.reverse_engineering.models.experiment import Experiment, Extern_Alphanumeric_Signal, Extern_Signal"
   ]
  },
  {
   "cell_type": "markdown",
   "metadata": {},
   "source": [
    "## Set Experiment Names manually"
   ]
  },
  {
   "cell_type": "code",
   "execution_count": null,
   "metadata": {},
   "outputs": [],
   "source": [
    "car_model_file_name = \"model_vin_date-created.json\"\n",
    "car_model_dir = \"../../data/car_metadata\"\n",
    "experiment_folder = \"../../data/experiments/car/speed-drive/2025-02-24_10_02_04\" # TODO: Set folder of existing experiment files\n",
    "ground_truth_values=[\"10kmh\",\"20kmh\",\"30kmh\",\"40kmh\"] # TODO: Set file names from which data is taken\n",
    "number_of_values_per_gt = 2 # TODO: Set how many values from each file should be taken for the new experiment file\n",
    "\n",
    "car_model_file = f\"{car_model_dir}/{car_model_file_name}\"\n",
    "car_model_file_path = os.path.abspath(car_model_file)\n",
    "Path(experiment_folder).mkdir(parents=True, exist_ok=True)"
   ]
  },
  {
   "cell_type": "markdown",
   "metadata": {},
   "source": [
    "## [Optional] Display Experiment Metadata"
   ]
  },
  {
   "cell_type": "code",
   "execution_count": null,
   "metadata": {},
   "outputs": [],
   "source": [
    "# Display Experiment\n",
    "for ground_truth_value in ground_truth_values:\n",
    "    experiment_file = os.path.join(experiment_folder, f\"{ground_truth_value}.json\")\n",
    "    !python ../scripts_for_doip_new/display_experiment_metadata.py --experiment_file_path \"{experiment_file}\""
   ]
  },
  {
   "cell_type": "markdown",
   "metadata": {},
   "source": [
    "## Load Experiments\n",
    "\n",
    "Load all relevant experiments needed for this analysis"
   ]
  },
  {
   "cell_type": "code",
   "execution_count": 4,
   "metadata": {},
   "outputs": [],
   "source": [
    "experiment_files = {}\n",
    "experiments = {}\n",
    "\n",
    "for ground_truth_value in ground_truth_values:\n",
    "    experiment_files[ground_truth_value] = os.path.join(experiment_folder, f\"{ground_truth_value}.json\")\n",
    "    experiments[ground_truth_value] = Experiment.load(experiment_files[ground_truth_value])"
   ]
  },
  {
   "cell_type": "markdown",
   "metadata": {},
   "source": [
    "Concat all experiments"
   ]
  },
  {
   "cell_type": "code",
   "execution_count": null,
   "metadata": {},
   "outputs": [],
   "source": [
    "combined_experiment_file_name = \"D1\" # TODO: Set new file name\n",
    "combined_experiment_file_path = os.path.join(experiment_folder, f\"{combined_experiment_file_name}.json\")\n",
    "combined_experiment_name = f\"Gear selected D1 (from Drive Experiments)\" # TODO: Set new experiment name\n",
    "combined_experiment_description = f\"Manually crafted experiment for gear D1 for gear selected signal discovery. Experiment is created from Speed Drive measurements for speeds {ground_truth_values}\" # TODO: Set new experiment description\n",
    "signal_selection =\"all\"\n",
    "print(f\"Experiment file path: {combined_experiment_file_path}\")\n",
    "!python ../scripts_for_doip_new/04_create_experiment.py --car_model_file_path {car_model_file_path} --experiment_file_path '{combined_experiment_file_path}' --experiment_name '{combined_experiment_name}' --experiment_description '{combined_experiment_description}' --signal_selection {signal_selection}\n",
    "\n",
    "#experiment_file = os.path.join(experiment_folder, f\"{combined_experiment_file_name}.json\")\n",
    "combined_experiment = Experiment.load(combined_experiment_file_path)\n",
    "\n",
    "for ground_truth_value in ground_truth_values:\n",
    "    combined_experiment.experiment_runtime_seconds += (experiments[ground_truth_value].experiment_runtime_seconds * number_of_values_per_gt / len(experiments[ground_truth_value].measurements[-1].values))\n",
    "    for measurement in experiments[ground_truth_value].measurements:\n",
    "        for x in combined_experiment.measurements:\n",
    "            if x.serverid == measurement.serverid:\n",
    "                if x.did == measurement.did:\n",
    "                    limited_values = random.sample(measurement.values, min(number_of_values_per_gt, len(measurement.values)))\n",
    "                    x.values.extend(limited_values)\n",
    "                    break\n"
   ]
  },
  {
   "cell_type": "markdown",
   "metadata": {},
   "source": [
    "Add ground truth value"
   ]
  },
  {
   "cell_type": "code",
   "execution_count": null,
   "metadata": {},
   "outputs": [],
   "source": [
    "ground_truth = \"D1\"\n",
    "combined_experiment.external_alphanumeric_measurements.append(Extern_Alphanumeric_Signal( name = \"Gear\", id = 1, values = []))\n",
    "values:List[str] = []\n",
    "for value in combined_experiment.measurements[0].values:\n",
    "    values.append(ground_truth)\n",
    "combined_experiment.external_alphanumeric_measurements[0].name = \"Gear\"\n",
    "combined_experiment.external_alphanumeric_measurements[0].values = deepcopy(values)\n",
    "print(f\"Combined Experiment: {len(combined_experiment.external_alphanumeric_measurements[0].values)} ground truth values\")"
   ]
  },
  {
   "cell_type": "code",
   "execution_count": null,
   "metadata": {},
   "outputs": [],
   "source": [
    "combined_experiment_file = os.path.join(experiment_folder, f\"{combined_experiment_file_name}.json\")\n",
    "combined_experiment.save(f\"{combined_experiment_file}\")\n",
    "!python ../scripts_for_doip_new/display_experiment_metadata.py --experiment_file_path \"{combined_experiment_file}\""
   ]
  }
 ],
 "metadata": {
  "kernelspec": {
   "display_name": "revcan-Tm9u8sAl-py3.10",
   "language": "python",
   "name": "python3"
  },
  "language_info": {
   "codemirror_mode": {
    "name": "ipython",
    "version": 3
   },
   "file_extension": ".py",
   "mimetype": "text/x-python",
   "name": "python",
   "nbconvert_exporter": "python",
   "pygments_lexer": "ipython3",
   "version": "3.10.12"
  }
 },
 "nbformat": 4,
 "nbformat_minor": 2
}
