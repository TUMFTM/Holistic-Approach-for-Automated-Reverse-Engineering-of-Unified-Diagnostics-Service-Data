{
 "cells": [
  {
   "cell_type": "markdown",
   "metadata": {},
   "source": [
    "# Charging Experiments"
   ]
  },
  {
   "cell_type": "markdown",
   "metadata": {},
   "source": [
    "## Imports"
   ]
  },
  {
   "cell_type": "code",
   "execution_count": null,
   "metadata": {},
   "outputs": [],
   "source": [
    "from pathlib import Path\n",
    "from datetime import date\n",
    "import os\n",
    "import subprocess\n",
    "from datetime import datetime\n",
    "from copy import deepcopy\n",
    "from revcan.reverse_engineering.models.experiment import Experiment"
   ]
  },
  {
   "cell_type": "markdown",
   "metadata": {},
   "source": [
    "## Create Necessary Experiment Files\n",
    "\n",
    "### TODO: \n",
    "Set & check the following parameters:\n",
    "- **Car Model File Name**: Specify the name of the car model file (`{model}_{vin}_{date-created}.json`).\n",
    "- **Car Model Directory**: Check the directory path where the car model file is stored (Default: `../../data/car_metadata`).\n",
    "- **Experiment Folder**: Set the path for the experiment folder where the results will be saved (Default: `../../data/experiments/{car}/{experiment}/{date-today}`)."
   ]
  },
  {
   "cell_type": "code",
   "execution_count": null,
   "metadata": {},
   "outputs": [],
   "source": [
    "car_model_file_name = \"model_vin_date-created.json\"\n",
    "car_model_dir = \"../../data/car_metadata\"\n",
    "experiment_folder = \"../../data/experiments/car/charging/\"\n",
    "\n",
    "car_model_file = f\"{car_model_dir}/{car_model_file_name}\"\n",
    "car_model_file_path = os.path.abspath(car_model_file)\n",
    "Path(experiment_folder).mkdir(parents=True, exist_ok=True)\n",
    "\n",
    "# Generate new folder for experiments\n",
    "timestamp = datetime.now().strftime(\"%Y_%m_%d_%H-%M-%S\")\n",
    "experiment_folder = os.path.join(experiment_folder, timestamp)\n",
    "Path(experiment_folder).mkdir(parents=True, exist_ok=True)\n",
    "\n",
    "duty_cycles=[\"11\",\"21\",\"31\",\"41\",\"51\"]\n",
    "\n",
    "\n",
    "for duty_cycle in duty_cycles:\n",
    "\n",
    "    experiment_file_path = os.path.join(experiment_folder, duty_cycle+\".json\")\n",
    "    experiment_name = f\"Charging with simplebox PWM Duty Cylce {duty_cycle}%\"\n",
    "    experiment_description = \"Charging parameter discovery\"\n",
    "    signal_selection =\"all\"\n",
    "    print(f\"Experiment file path: {experiment_file_path}\")\n",
    "    !python ../scripts_for_doip_new/04_create_experiment.py --car_model_file_path {car_model_file_path} --experiment_file_path '{experiment_file_path}' --experiment_name '{experiment_name}' --experiment_description '{experiment_description}' --signal_selection {signal_selection}\n"
   ]
  },
  {
   "cell_type": "markdown",
   "metadata": {},
   "source": [
    "## [Optional]: Set Experiment Names manually"
   ]
  },
  {
   "cell_type": "code",
   "execution_count": null,
   "metadata": {},
   "outputs": [],
   "source": [
    "car_model_file_name = \"model_vin_date-created.json\"\n",
    "car_model_dir = \"../../data/car_metadata\"\n",
    "experiment_folder = \"../../data/experiments/car/charging/2025_03_20_11-45-22\"\n",
    "duty_cycles=[\"11\",\"21\",\"31\",\"41\",\"51\"]\n",
    "\n",
    "\n",
    "car_model_file = f\"{car_model_dir}/{car_model_file_name}\"\n",
    "car_model_file_path = os.path.abspath(car_model_file)\n"
   ]
  },
  {
   "cell_type": "markdown",
   "metadata": {},
   "source": [
    "## Measurement - AC Charging\n",
    "**Before** executing the next Cell:\n",
    "\n",
    "- Set duty cycle of simple box to 11% which is equal to ~4.2kW\n",
    "\n",
    "\n",
    "Start measurement\n",
    "\n",
    "\n",
    "In order to apply **pre-filtering** strategy:\n",
    "\n",
    "After **2** measurements: \n",
    "\n",
    "- execute the Filter Cells below and **return**\n",
    "- complete the remaining measurements.\n",
    "- Continue normal flow of cells.\n",
    "\n"
   ]
  },
  {
   "cell_type": "code",
   "execution_count": null,
   "metadata": {},
   "outputs": [],
   "source": [
    "#--experiment_file_path /home/alex/Documents/idp/can_hacking/data/experiments/VW_ID.3_2020_WVWZZZE1ZMP014405_all-dids_2024-11-22.json --activate_logging true\n",
    "!python ../scripts_for_doip_new/05_read_data.py --experiment_file_path '{os.path.join(experiment_folder, \"11\"+\".json\")}' --activate_logging true --num_samples 5\n"
   ]
  },
  {
   "cell_type": "markdown",
   "metadata": {},
   "source": [
    "Before executing next Cell:\n",
    "\n",
    "Set duty cycle of simple box to 21% which is equal to ~6.2kW"
   ]
  },
  {
   "cell_type": "code",
   "execution_count": null,
   "metadata": {},
   "outputs": [],
   "source": [
    "!python ../scripts_for_doip_new/05_read_data.py --experiment_file_path '{os.path.join(experiment_folder, \"21\"+\".json\")}' --activate_logging true --num_samples 5"
   ]
  },
  {
   "cell_type": "markdown",
   "metadata": {},
   "source": [
    "Before executing next Cell:\n",
    "\n",
    "Set duty cycle of simple box to 31% which is equal to ~8.4kW"
   ]
  },
  {
   "cell_type": "code",
   "execution_count": null,
   "metadata": {},
   "outputs": [],
   "source": [
    "!python ../scripts_for_doip_new/05_read_data.py --experiment_file_path '{os.path.join(experiment_folder, \"31\"+\".json\")}' --activate_logging true --num_samples 5"
   ]
  },
  {
   "cell_type": "markdown",
   "metadata": {},
   "source": [
    "Before executing next Cell:\n",
    "\n",
    "Set duty cycle of simple box to 41% which is equal to ~10.5kW"
   ]
  },
  {
   "cell_type": "code",
   "execution_count": null,
   "metadata": {},
   "outputs": [],
   "source": [
    "!python ../scripts_for_doip_new/05_read_data.py --experiment_file_path '{os.path.join(experiment_folder, \"41\"+\".json\")}' --activate_logging true --num_samples 5"
   ]
  },
  {
   "cell_type": "markdown",
   "metadata": {},
   "source": [
    "# Evaluation\n"
   ]
  },
  {
   "cell_type": "markdown",
   "metadata": {},
   "source": [
    "## [Optional] Display Experiment Metadata"
   ]
  },
  {
   "cell_type": "code",
   "execution_count": null,
   "metadata": {},
   "outputs": [],
   "source": [
    "# Display AC Experiment\n",
    "for duty_cycle in duty_cycles:\n",
    "    experiment_file = os.path.join(experiment_folder, f\"accelerator_pedal_position_{duty_cycle}.json\")\n",
    "    !python ../scripts_for_doip_new/display_experiment_metadata.py --experiment_file_path \"{experiment_file}\"\n"
   ]
  },
  {
   "cell_type": "markdown",
   "metadata": {},
   "source": [
    "## Load Experiments\n",
    "\n",
    "Load all relevant experiments needed for this analysis"
   ]
  },
  {
   "cell_type": "code",
   "execution_count": null,
   "metadata": {},
   "outputs": [],
   "source": [
    "experiment_files = {}\n",
    "experiments = {}\n",
    "\n",
    "for duty_cycle in duty_cycles:\n",
    "    experiment_files[duty_cycle] = os.path.join(experiment_folder, f\"{duty_cycle}.json\")\n",
    "    experiments[duty_cycle] = Experiment.load(experiment_files[duty_cycle])\n",
    "pass\n",
    "\n"
   ]
  },
  {
   "cell_type": "markdown",
   "metadata": {},
   "source": [
    "## Add Ground truth\n",
    "Add ground truth data for charging experiment. By experiment design these are fixed values, and are added manually in this case"
   ]
  },
  {
   "cell_type": "code",
   "execution_count": null,
   "metadata": {},
   "outputs": [],
   "source": [
    "from datetime import timedelta\n",
    "import datetime\n",
    "from typing import List, Dict\n",
    "from copy import deepcopy\n",
    "from revcan.reverse_engineering.models.experiment import Extern_Signal, Value, Experiment\n",
    "import numpy as np\n",
    "\n",
    "duty_cycles_map={\"11\":4200,\"21\":6200,\"31\":8400,\"41\":10500,\"51\":10500}\n",
    "\n",
    "#pwm = 3.077 ∗ I − 8.462\n",
    "# I = (pwm+8.462)/3.077\n",
    "\n",
    "for duty_cycle in duty_cycles:\n",
    "    experiments[duty_cycle].external_measurements.append(Extern_Signal( name = \"Charging_Power\", id = 1, values = []))\n",
    "    values:List[Value] = []\n",
    "    for value in experiments[duty_cycle].measurements[0]:\n",
    "        values.append(Value(value= [duty_cycles_map[duty_cycle]], time= value.time))\n",
    "    experiments[duty_cycle].external_measurements[0].values = deepcopy(values)\n",
    "    print(f\"Experiment duty cycle {duty_cycle} : {len(experiments[duty_cycle].external_measurements[0].values)} ground truth values with value {experiments[duty_cycle].external_measurements[0].values[0].value}\")\n",
    "\n",
    "\n",
    "\n"
   ]
  },
  {
   "cell_type": "markdown",
   "metadata": {},
   "source": [
    "Concat all experiments"
   ]
  },
  {
   "cell_type": "code",
   "execution_count": null,
   "metadata": {},
   "outputs": [],
   "source": [
    "combined_experiment = deepcopy(experiments[duty_cycles[0]])\n",
    "combined_experiment.name = f\"Non constant singals for charging experiment\"\n",
    "combined_experiment.description = f\"Non constant signals for charging experiment with {len(duty_cycles)} different duty cycles.\"\n",
    "\n",
    "for duty_cylce in duty_cycles[1:]:\n",
    "    combined_experiment.experiment_runtime_seconds += experiments[duty_cylce].experiment_runtime_seconds\n",
    "    for measurement in experiments[duty_cylce].measurements:\n",
    "        for x in combined_experiment.measurements:\n",
    "            if x.serverid == measurement.serverid:\n",
    "                if x.did == measurement.did:\n",
    "                    x.values.extend(measurement.values)\n",
    "                    break\n"
   ]
  },
  {
   "cell_type": "markdown",
   "metadata": {},
   "source": [
    "Keep only non constant signals"
   ]
  },
  {
   "cell_type": "code",
   "execution_count": null,
   "metadata": {},
   "outputs": [],
   "source": [
    "\n",
    "number_measurements = len(combined_experiment.measurements)\n",
    "print(f\"Experiment contains {number_measurements} measurements before filtering\", )\n",
    "print(\"Applaying remove constant values filter\")\n",
    "\n",
    "combined_experiment.keep_non_constant_signals(combined_experiment)\n",
    "\n",
    "number_measurements = len(combined_experiment.measurements)\n",
    "print(f\"Experiment contains {number_measurements} measurements after filtering\", )"
   ]
  },
  {
   "cell_type": "markdown",
   "metadata": {},
   "source": [
    "Remove all previously found constant signals from individual experiments"
   ]
  },
  {
   "cell_type": "code",
   "execution_count": null,
   "metadata": {},
   "outputs": [],
   "source": [
    "for duty_cycle in duty_cycles:\n",
    "    experiments[duty_cycle].keep_signals_by_list(signals_list=combined_experiment.measurements)\n",
    "    experiment_file = os.path.join(experiment_folder, f\"accelerator_pedal_position_{duty_cycle}.json\")\n",
    "    experiments[duty_cycle].save(f\"{experiment_file}\")\n",
    "    !python ../scripts_for_doip_new/display_experiment_metadata.py --experiment_file_path \"{experiment_file}\""
   ]
  },
  {
   "cell_type": "markdown",
   "metadata": {},
   "source": [
    "Save combined experiment file"
   ]
  },
  {
   "cell_type": "code",
   "execution_count": null,
   "metadata": {},
   "outputs": [],
   "source": [
    "combined_experiment_file = os.path.join(experiment_folder, f\"combined.json\")\n",
    "combined_experiment.save(f\"{combined_experiment_file}\")\n",
    "!python ../scripts_for_doip_new/display_experiment_metadata.py --experiment_file_path \"{combined_experiment_file}\""
   ]
  },
  {
   "cell_type": "markdown",
   "metadata": {},
   "source": [
    "### End of Experiment \n",
    "\n",
    "Continue with Linear evaluation"
   ]
  }
 ],
 "metadata": {
  "kernelspec": {
   "display_name": "revcan-gqjZW6Nx-py3.11",
   "language": "python",
   "name": "python3"
  },
  "language_info": {
   "codemirror_mode": {
    "name": "ipython",
    "version": 3
   },
   "file_extension": ".py",
   "mimetype": "text/x-python",
   "name": "python",
   "nbconvert_exporter": "python",
   "pygments_lexer": "ipython3",
   "version": "3.11.7"
  }
 },
 "nbformat": 4,
 "nbformat_minor": 2
}
