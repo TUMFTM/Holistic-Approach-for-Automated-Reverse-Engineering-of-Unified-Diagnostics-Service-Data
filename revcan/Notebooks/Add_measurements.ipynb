{
 "cells": [
  {
   "cell_type": "markdown",
   "metadata": {},
   "source": [
    "# Notebook for additional measurements\n",
    "\n",
    "This notebook is mostly used for debugging or validation.\n",
    "\n",
    "## Imports"
   ]
  },
  {
   "cell_type": "code",
   "execution_count": 148,
   "metadata": {},
   "outputs": [],
   "source": [
    "from pathlib import Path\n",
    "from datetime import date\n",
    "import os\n",
    "import subprocess\n",
    "import datetime\n",
    "from typing import List\n",
    "from copy import deepcopy\n",
    "from revcan.reverse_engineering.models.experiment import Experiment, Extern_Signal, Extern_Alphanumeric_Signal, Value"
   ]
  },
  {
   "cell_type": "markdown",
   "metadata": {},
   "source": [
    "## Set Experiment Name"
   ]
  },
  {
   "cell_type": "code",
   "execution_count": null,
   "metadata": {},
   "outputs": [],
   "source": [
    "experiment_name = \"experiment_top_candidates_nn_complete_raw\" # TODO: Set experiment name\n",
    "external_signal = True # TODO: Set to True if signal is integer\n",
    "external_alphanumeric_signal = True # TODO: Set to True if signal is alphanumeric\n",
    "external_signal_name = \"Speed\" # Set name of the external_signal\n",
    "external_alphanumeric_signal_name = \"Gear\" # Set name of external_alphanumeric_signal\n",
    "\n",
    "experiment_folder = \"../../data/experiments/taycan/gear_selected_taycan/2025-04-03_including_D2\"\n",
    "Path(experiment_folder).mkdir(parents=True, exist_ok=True)\n",
    "\n",
    "experiment_file = os.path.join(experiment_folder, f\"{experiment_name}.json\")\n",
    "experiment = Experiment.load(experiment_file)\n",
    "\n",
    "!python ../scripts_for_doip_new/display_experiment_metadata.py --experiment_file_path \"{experiment_file}\""
   ]
  },
  {
   "cell_type": "markdown",
   "metadata": {},
   "source": [
    "## 1. Single Measurement\n",
    "Read data from a DID without saving it to an experiment file."
   ]
  },
  {
   "cell_type": "code",
   "execution_count": null,
   "metadata": {},
   "outputs": [],
   "source": [
    "serverid, did = (16403, 64785) # TODO: Set ServerId and DID\n",
    "\n",
    "from revcan.signal_discovery.utils.doipclient import DoIPClient\n",
    "from revcan.signal_discovery.utils.doipclient.connectors import DoIPClientUDSConnector\n",
    "from revcan.signal_discovery.utils.udsoncan.client import Client\n",
    "\n",
    "timeout = 10\n",
    "ecu_ip_address = \"192.168.178.27\"\n",
    "client_logical_address = experiment.car.arb_id_pairs[0].client_logical_address\n",
    "doip_client = DoIPClient(ecu_ip_address=ecu_ip_address, initial_ecu_logical_address=serverid,\n",
    "                                                client_logical_address=client_logical_address)\n",
    "conn = DoIPClientUDSConnector(doip_client)\n",
    "\n",
    "try:\n",
    "    with Client(conn, request_timeout=timeout) as client:\n",
    "        response = client.read_data_by_identifier_first(didlist=[did])\n",
    "        value_response = Value(time=datetime.datetime.now(), value=response)\n",
    "        print(f\"ServerID: {serverid}, DID: {did}, Response: {value_response.value}\")\n",
    "except Exception as e:\n",
    "    print(f\"An issue occurred while probing DID 0x{did:04x} for server 0x{serverid:04x}: {e}\")"
   ]
  },
  {
   "cell_type": "markdown",
   "metadata": {},
   "source": [
    "2. Add Measurements to Experiment\n",
    "\n",
    "This also includes the ground truth."
   ]
  },
  {
   "cell_type": "code",
   "execution_count": null,
   "metadata": {},
   "outputs": [],
   "source": [
    "# TODO: Set ground truth value and number of sample\n",
    "ground_truth_alphanumeric = \"D2\"\n",
    "ground_truth_int = 100\n",
    "num_of_samples = 5\n",
    "\n",
    "# Load Experiment for Sanity Checks\n",
    "experiment = Experiment.load(experiment_file)\n",
    "\n",
    "# Sanity check for external signal name\n",
    "if external_alphanumeric_signal:\n",
    "    if not experiment.external_alphanumeric_measurements[0].name == external_alphanumeric_signal_name:\n",
    "        raise SystemExit(f\"Name of external signal in experiment not equal to set external signal name, experiment.external_alphanumeric_measurements[0].name: {experiment.external_alphanumeric_measurements[0].name}, external_signal_name: {external_signal_name}\")\n",
    "if external_signal:\n",
    "    if not experiment.external_measurements[0].name == external_signal_name:\n",
    "        raise SystemExit(f\"Name of external signal in experiment not equal to set external signal name, experiment.external_measurements[0].name: {experiment.external_measurements[0].name}, external_signal_name: {external_signal_name}\")\n",
    "\n",
    "# Sanity check for external signal data before read data\n",
    "if external_alphanumeric_signal:\n",
    "    if len(experiment.external_alphanumeric_measurements[0].values) != len(experiment.measurements[-1].values):\n",
    "        raise SystemExit(f\"Number of external signal values does not equal number of values before read, External alphanumeric measurements: {len(experiment.external_alphanumeric_measurements[0].values)}, Measurements: {len(experiment.measurements[-1].values)}\")\n",
    "if external_signal:\n",
    "    if len(experiment.external_measurements[0].values) != len(experiment.measurements[-1].values):\n",
    "        raise SystemExit(f\"Number of external signal values does not equal number of values before read, External measurements: {len(experiment.external_measurements[0].values)}, Measurements: {len(experiment.measurements[-1].values)}\")\n",
    "\n",
    "# Read data\n",
    "!python ../scripts_for_doip_new/05_read_data.py --experiment_file_path '{experiment_file}' --activate_logging true --num_samples {num_of_samples}\n",
    "\n",
    "# Load Experiment again\n",
    "experiment = Experiment.load(experiment_file)\n",
    "\n",
    "# Add ground truth to experiment\n",
    "if external_alphanumeric_signal:\n",
    "    values_alphanumeric:List[str] = []\n",
    "    for i in range(num_of_samples):\n",
    "        values_alphanumeric.append(ground_truth_alphanumeric)\n",
    "    experiment.external_alphanumeric_measurements[0].values += deepcopy(values_alphanumeric)\n",
    "    print(f\"Experiment: {len(experiment.external_alphanumeric_measurements[0].values)} ground truth values\")\n",
    "if external_signal:\n",
    "    values:List[Value] = []\n",
    "    for i in range(num_of_samples):\n",
    "        values.append(Value(value=[ground_truth_int], time=datetime.datetime.now()))\n",
    "    experiment.external_measurements[0].values += deepcopy(values)\n",
    "    print(f\"Experiment: {len(experiment.external_measurements[0].values)} ground truth values\")\n",
    "\n",
    "\n",
    "# Save measurements\n",
    "experiment.save(f\"{experiment_file}\")\n",
    "!python ../scripts_for_doip_new/display_experiment_metadata.py --experiment_file_path \"{experiment_file}\""
   ]
  },
  {
   "cell_type": "markdown",
   "metadata": {},
   "source": [
    "## Additional Scripts"
   ]
  },
  {
   "cell_type": "markdown",
   "metadata": {},
   "source": [
    "### Show Ground Truth"
   ]
  },
  {
   "cell_type": "code",
   "execution_count": null,
   "metadata": {},
   "outputs": [],
   "source": [
    "gears=[\"P\",\"R\",\"N\",\"D1\", \"D2\"]\n",
    "values = {}\n",
    "for gear in gears:\n",
    "    values[gear] = []\n",
    "\n",
    "for i in range(len(experiment.external_measurements[0].values)):\n",
    "    gear = experiment.external_alphanumeric_measurements[0].values[i]\n",
    "    values[gear].append(experiment.external_measurements[0].values[i].value[0])\n",
    "\n",
    "for gear in gears:\n",
    "    unique_values = sorted(set(values[gear]))\n",
    "    print(f\"Gear {gear}: {len(values[gear])} measurements: {unique_values}\")"
   ]
  },
  {
   "cell_type": "markdown",
   "metadata": {},
   "source": [
    "### Set External Measurements Name"
   ]
  },
  {
   "cell_type": "code",
   "execution_count": null,
   "metadata": {},
   "outputs": [],
   "source": [
    "experiment.external_measurements = []\n",
    "experiment.external_measurements.append(Extern_Signal( name = \"Speed\", id = 1, values = []))\n",
    "\n",
    "experiment.external_alphanumeric_measurements = []\n",
    "experiment.external_alphanumeric_measurements.append(Extern_Alphanumeric_Signal( name = \"Gear\", id = 1, values = []))\n",
    "\n",
    "experiment.save(f\"{experiment_file}\")\n",
    "!python ../scripts_for_doip_new/display_experiment_metadata.py --experiment_file_path \"{experiment_file}\""
   ]
  },
  {
   "cell_type": "markdown",
   "metadata": {},
   "source": [
    "## Remove previous measurements\n",
    "\n",
    "### Remove last n measurements"
   ]
  },
  {
   "cell_type": "code",
   "execution_count": null,
   "metadata": {},
   "outputs": [],
   "source": [
    "n = 5\n",
    "\n",
    "!python ../scripts_for_doip_new/display_experiment_metadata.py --experiment_file_path \"{experiment_file}\"\n",
    "\n",
    "for signal in experiment.measurements:\n",
    "    signal.values = signal.values[:-n] \n",
    "    print(f\"ServerID {signal.serverid}, DID: {signal.did.did}, Values: {len(signal.values)}\")\n",
    "\n",
    "experiment.external_alphanumeric_measurements[0].values = experiment.external_alphanumeric_measurements[0].values[:-n]\n",
    "experiment.external_measurements[0].values = experiment.external_measurements[0].values[:-n]\n",
    "\n",
    "print(f\"Experiment: {len(experiment.external_alphanumeric_measurements[0].values)} ground truth values\")\n",
    "print(f\"Experiment: {len(experiment.external_measurements[0].values)} ground truth values\")\n",
    "\n",
    "experiment.save(f\"{experiment_file}\")\n",
    "!python ../scripts_for_doip_new/display_experiment_metadata.py --experiment_file_path \"{experiment_file}\""
   ]
  },
  {
   "cell_type": "markdown",
   "metadata": {},
   "source": [
    "### Remove all measurements"
   ]
  },
  {
   "cell_type": "code",
   "execution_count": null,
   "metadata": {},
   "outputs": [],
   "source": [
    "for signal in experiment.measurements:\n",
    "    signal.values = []\n",
    "\n",
    "experiment.experiment_runtime_seconds = 0\n",
    "\n",
    "experiment.save(f\"{experiment_file}\")\n",
    "!python ../scripts_for_doip_new/display_experiment_metadata.py --experiment_file_path \"{experiment_file}\""
   ]
  }
 ],
 "metadata": {
  "kernelspec": {
   "display_name": "revcan-Tm9u8sAl-py3.10",
   "language": "python",
   "name": "python3"
  },
  "language_info": {
   "codemirror_mode": {
    "name": "ipython",
    "version": 3
   },
   "file_extension": ".py",
   "mimetype": "text/x-python",
   "name": "python",
   "nbconvert_exporter": "python",
   "pygments_lexer": "ipython3",
   "version": "3.10.12"
  }
 },
 "nbformat": 4,
 "nbformat_minor": 2
}
