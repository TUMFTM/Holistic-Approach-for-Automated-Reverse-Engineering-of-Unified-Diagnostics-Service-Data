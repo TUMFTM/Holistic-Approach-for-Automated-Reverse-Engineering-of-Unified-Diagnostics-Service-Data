{
 "cells": [
  {
   "cell_type": "markdown",
   "metadata": {},
   "source": [
    "# Gear Selection Experiments\n",
    "\n",
    "## Imports"
   ]
  },
  {
   "cell_type": "code",
   "execution_count": 1,
   "metadata": {},
   "outputs": [],
   "source": [
    "from pathlib import Path\n",
    "from datetime import date\n",
    "import os\n",
    "import subprocess\n",
    "from typing import List\n",
    "from copy import deepcopy\n",
    "from revcan.reverse_engineering.models.experiment import Experiment, Extern_Alphanumeric_Signal"
   ]
  },
  {
   "cell_type": "markdown",
   "metadata": {},
   "source": [
    "## Create Necessary Experiment Files\n",
    "\n",
    "### TODO: \n",
    "Set & check the following parameters:\n",
    "- **Car Model File Name**: Specify the name of the car model file (`{model}_{vin}_{date-created}.json`).\n",
    "- **Car Model Directory**: Check the directory path where the car model file is stored (Default: `../../data/car_metadata`).\n",
    "- **Experiment Folder**: Set the path for the experiment folder where the results will be saved (Default: `../../data/experiments/gear_selected_{model}/{date-today}`).\n",
    "- **Gears**: Set the possible gears for the car model (Default: `[\"P\",\"R\",\"N\",\"D\"]`)."
   ]
  },
  {
   "cell_type": "code",
   "execution_count": null,
   "metadata": {},
   "outputs": [],
   "source": [
    "car_model_file_name = \"model_vin_date-created.json\" # TODO: Set correct car model file name\n",
    "car_model_dir = \"../../data/car_metadata\" # TODO: Check directory of car model file\n",
    "experiment_folder = \"../../data/experiments/car/gear_selected/\" + date.today().strftime(\"%Y-%m-%d\") # TODO: Set directory where experiment files should be saved to\n",
    "gears=[\"P\",\"R\",\"N\",\"D\"] # TODO: Check gears\n",
    "\n",
    "\n",
    "car_model_file = f\"{car_model_dir}/{car_model_file_name}\"\n",
    "car_model_file_path = os.path.abspath(car_model_file)\n",
    "Path(experiment_folder).mkdir(parents=True, exist_ok=True)\n",
    "\n",
    "print(f\"Car model file path: {car_model_file_path}\")\n",
    "\n",
    "#create experiments\n",
    "for gear in gears:\n",
    "\n",
    "    experiment_file_path = os.path.join(experiment_folder, gear+\".json\")\n",
    "    experiment_name = f\"Gear selected {gear}\"\n",
    "    experiment_description = \"gear selected signal discovery\"\n",
    "    signal_selection =\"all\"\n",
    "    print(f\"Experiment file path: {experiment_file_path}\")\n",
    "    !python ../scripts_for_doip_new/04_create_experiment.py --car_model_file_path {car_model_file_path} --experiment_file_path '{experiment_file_path}' --experiment_name '{experiment_name}' --experiment_description '{experiment_description}' --signal_selection {signal_selection}\n"
   ]
  },
  {
   "cell_type": "markdown",
   "metadata": {},
   "source": [
    "## [Optional]: Set Experiment Names manually"
   ]
  },
  {
   "cell_type": "code",
   "execution_count": null,
   "metadata": {},
   "outputs": [],
   "source": [
    "car_model_file_name = \"model_vin_date-created.json\"\n",
    "car_model_dir = \"../../data/car_metadata\"\n",
    "experiment_folder = \"../../data/experiments/car/gear_selected/2025-04-03_including_D2\"\n",
    "gears=[\"P\",\"R\",\"N\",\"D1\",\"D2\"] # TODO: Check gears\n",
    "\n",
    "from pathlib import Path\n",
    "import os\n",
    "import subprocess\n",
    "from datetime import datetime\n",
    "\n",
    "car_model_file = f\"{car_model_dir}/{car_model_file_name}\"\n",
    "car_model_file_path = os.path.abspath(car_model_file)\n",
    "Path(experiment_folder).mkdir(parents=True, exist_ok=True)"
   ]
  },
  {
   "cell_type": "markdown",
   "metadata": {},
   "source": [
    "## 1. Measurements\n",
    "\n",
    "For each gear 5 measurements will be taken.\n",
    "\n",
    "### 1.1 Experiment 1: Gear P\n",
    "\n",
    "Before executing the next Cell: Set the gear to P "
   ]
  },
  {
   "cell_type": "code",
   "execution_count": null,
   "metadata": {},
   "outputs": [],
   "source": [
    "!python ../scripts_for_doip_new/05_read_data.py --experiment_file_path '{os.path.join(experiment_folder, \"P\"+\".json\")}' --activate_logging true --num_samples 4"
   ]
  },
  {
   "cell_type": "markdown",
   "metadata": {},
   "source": [
    "### 1.2 Experiment 2: Gear R\n",
    "\n",
    "Before executing the next Cell: Set the gear to R "
   ]
  },
  {
   "cell_type": "code",
   "execution_count": null,
   "metadata": {},
   "outputs": [],
   "source": [
    "!python ../scripts_for_doip_new/05_read_data.py --experiment_file_path '{os.path.join(experiment_folder, \"R\"+\".json\")}' --activate_logging true --num_samples 4"
   ]
  },
  {
   "cell_type": "markdown",
   "metadata": {},
   "source": [
    "### 1.3 Experiment 3: Gear N\n",
    "\n",
    "Before executing the next Cell: Set the gear to N "
   ]
  },
  {
   "cell_type": "code",
   "execution_count": null,
   "metadata": {},
   "outputs": [],
   "source": [
    "!python ../scripts_for_doip_new/05_read_data.py --experiment_file_path '{os.path.join(experiment_folder, \"N\"+\".json\")}' --activate_logging true --num_samples 4"
   ]
  },
  {
   "cell_type": "markdown",
   "metadata": {},
   "source": [
    "### 1.4 Experiment 4: Gear D\n",
    "\n",
    "Before executing the next Cell: Set the gear to D "
   ]
  },
  {
   "cell_type": "code",
   "execution_count": null,
   "metadata": {},
   "outputs": [],
   "source": [
    "!python ../scripts_for_doip_new/05_read_data.py --experiment_file_path '{os.path.join(experiment_folder, \"D\"+\".json\")}' --activate_logging true --num_samples 4"
   ]
  },
  {
   "cell_type": "markdown",
   "metadata": {},
   "source": [
    "### Optional: 1.5 Experiment X: Additional measurements for additional gears\n",
    "\n",
    "Before executing the next Cell: Set the gear to the desired gear"
   ]
  },
  {
   "cell_type": "code",
   "execution_count": null,
   "metadata": {},
   "outputs": [],
   "source": [
    "additional_gear = \"D2\" # TODO: Set name of gear\n",
    "\n",
    "!python ../scripts_for_doip_new/05_read_data.py --experiment_file_path '{os.path.join(experiment_folder, {additional_gear}+\".json\")}' --activate_logging true --num_samples 5"
   ]
  },
  {
   "cell_type": "markdown",
   "metadata": {},
   "source": [
    "## [Optional] Display Experiment Metadata"
   ]
  },
  {
   "cell_type": "code",
   "execution_count": null,
   "metadata": {},
   "outputs": [],
   "source": [
    "# Display Experiment\n",
    "for gear in gears:\n",
    "    experiment_file = os.path.join(experiment_folder, f\"{gear}.json\")\n",
    "    !python ../scripts_for_doip_new/display_experiment_metadata.py --experiment_file_path \"{experiment_file}\""
   ]
  },
  {
   "cell_type": "markdown",
   "metadata": {},
   "source": [
    "## Load Experiments\n",
    "\n",
    "Load all relevant experiments needed for this analysis"
   ]
  },
  {
   "cell_type": "code",
   "execution_count": 4,
   "metadata": {},
   "outputs": [],
   "source": [
    "experiment_files = {}\n",
    "experiments = {}\n",
    "\n",
    "for gear in gears:\n",
    "    experiment_files[gear] = os.path.join(experiment_folder, f\"{gear}.json\")\n",
    "    experiments[gear] = Experiment.load(experiment_files[gear])"
   ]
  },
  {
   "cell_type": "markdown",
   "metadata": {},
   "source": [
    "## Add Ground truth\n",
    "Add ground truth data for steering wheel angle. By experiment design these are fixed values, and are added manually in this case"
   ]
  },
  {
   "cell_type": "code",
   "execution_count": null,
   "metadata": {},
   "outputs": [],
   "source": [
    "for gear in gears:\n",
    "    experiments[gear].external_alphanumeric_measurements.append(Extern_Alphanumeric_Signal( name = \"Gear\", id = 1, values = []))\n",
    "    values:List[str] = []\n",
    "    for value in experiments[gear].measurements[0].values:\n",
    "        values.append(gear)\n",
    "    experiments[gear].external_alphanumeric_measurements[0].name = \"Gear\"\n",
    "    experiments[gear].external_alphanumeric_measurements[0].values = deepcopy(values)\n",
    "    print(f\"Experiment gear {gear}: {len(experiments[gear].external_alphanumeric_measurements[0].values)} ground truth values\")"
   ]
  },
  {
   "cell_type": "markdown",
   "metadata": {},
   "source": [
    "## Concat all experiments to combined_experiment"
   ]
  },
  {
   "cell_type": "code",
   "execution_count": null,
   "metadata": {},
   "outputs": [],
   "source": [
    "combined_experiment = deepcopy(experiments[gears[0]])\n",
    "combined_experiment.name = f\"Non constant signals for gear experiment including d2\"\n",
    "combined_experiment.description = f\"Non constant signals for gear experiment with {len(gears)} different gears. Gears: {gears}\"\n",
    "\n",
    "for gear in gears[1:]:\n",
    "    combined_experiment.experiment_runtime_seconds += experiments[gear].experiment_runtime_seconds\n",
    "    for measurement in experiments[gear].measurements:\n",
    "        for x in combined_experiment.measurements:\n",
    "            if x.serverid == measurement.serverid:\n",
    "                if x.did == measurement.did:\n",
    "                    x.values.extend(measurement.values)\n",
    "                    break\n",
    "    combined_experiment.external_alphanumeric_measurements[0].values.extend(experiments[gear].external_alphanumeric_measurements[0].values)\n"
   ]
  },
  {
   "cell_type": "markdown",
   "metadata": {},
   "source": [
    "### Filter\n",
    "\n",
    "Keep only non constant signals"
   ]
  },
  {
   "cell_type": "code",
   "execution_count": null,
   "metadata": {},
   "outputs": [],
   "source": [
    "number_measurements = len(combined_experiment.measurements)\n",
    "print(f\"Experiment contains {number_measurements} measurements before filtering\", )\n",
    "print(\"Applaying remove constant values filter\")\n",
    "\n",
    "combined_experiment.keep_non_constant_signals(combined_experiment)\n",
    "\n",
    "number_measurements = len(combined_experiment.measurements)\n",
    "print(f\"Experiment contains {number_measurements} measurements after filtering\", )"
   ]
  },
  {
   "cell_type": "markdown",
   "metadata": {},
   "source": [
    "## Save combined experiment file"
   ]
  },
  {
   "cell_type": "code",
   "execution_count": null,
   "metadata": {},
   "outputs": [],
   "source": [
    "combined_experiment_file = os.path.join(experiment_folder, f\"experiment_non_constant_signals.json\")\n",
    "combined_experiment.save(f\"{combined_experiment_file}\")\n",
    "!python ../scripts_for_doip_new/display_experiment_metadata.py --experiment_file_path \"{combined_experiment_file}\""
   ]
  },
  {
   "cell_type": "markdown",
   "metadata": {},
   "source": [
    "## [OPTIONAL] Remove all previously found constant signals from individual experiments"
   ]
  },
  {
   "cell_type": "code",
   "execution_count": null,
   "metadata": {},
   "outputs": [],
   "source": [
    "for gear in gears:\n",
    "    experiments[gear].keep_signals_by_list(signals_list=combined_experiment.measurements)\n",
    "    experiment_file = os.path.join(experiment_folder, f\"{gear}.json\")\n",
    "    experiments[gear].save(f\"{experiment_file}\")\n",
    "    !python ../scripts_for_doip_new/display_experiment_metadata.py --experiment_file_path \"{experiment_file}\""
   ]
  }
 ],
 "metadata": {
  "kernelspec": {
   "display_name": "revcan-Tm9u8sAl-py3.10",
   "language": "python",
   "name": "python3"
  },
  "language_info": {
   "codemirror_mode": {
    "name": "ipython",
    "version": 3
   },
   "file_extension": ".py",
   "mimetype": "text/x-python",
   "name": "python",
   "nbconvert_exporter": "python",
   "pygments_lexer": "ipython3",
   "version": "3.10.12"
  }
 },
 "nbformat": 4,
 "nbformat_minor": 2
}
