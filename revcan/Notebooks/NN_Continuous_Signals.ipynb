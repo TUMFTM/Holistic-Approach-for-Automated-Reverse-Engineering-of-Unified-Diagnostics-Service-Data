{
 "cells": [
  {
   "cell_type": "markdown",
   "metadata": {},
   "source": [
    "# NN Continuous Signals\n",
    "\n",
    "Notebook used to evaluate continuous signal data.\n",
    "\n",
    "## Imports"
   ]
  },
  {
   "cell_type": "code",
   "execution_count": 1,
   "metadata": {},
   "outputs": [],
   "source": [
    "from pathlib import Path\n",
    "import os\n",
    "import subprocess\n",
    "from datetime import datetime\n",
    "from typing import List\n",
    "import pandas as pd\n",
    "from copy import deepcopy\n",
    "from revcan.reverse_engineering.models.experiment import Extern_Signal, Value, Experiment, Signal\n",
    "import torch\n",
    "import torch.nn as nn\n",
    "import torch.optim as optim\n",
    "from torch.utils.data import DataLoader, TensorDataset\n",
    "import numpy as np\n",
    "from colorama import Fore, Style\n",
    "\n",
    "import revcan.reverse_engineering.models.NNs.SignalMatchingNN_ContinuousSignals as smnn"
   ]
  },
  {
   "cell_type": "markdown",
   "metadata": {},
   "source": [
    "## Set experiment\n",
    "\n",
    "Set the experiment name and folder of the combined experiment file (containing all measurements for an experiment including ground truth values)."
   ]
  },
  {
   "cell_type": "code",
   "execution_count": null,
   "metadata": {},
   "outputs": [],
   "source": [
    "# TODO: Set name and folder of experiment\n",
    "experiment_name = \"experiment_non_constant_signals\"\n",
    "experiment_folder = \"../../data/experiments/car/speed-drive/2025-02-24_10_02_04\"\n",
    "\n",
    "\n",
    "Path(experiment_folder).mkdir(parents=True, exist_ok=True)\n",
    "experiment_file = os.path.join(experiment_folder, f\"{experiment_name}.json\")\n",
    "experiment = Experiment.load(experiment_file)\n",
    "\n",
    "!python ../scripts_for_doip_new/display_experiment_metadata.py --experiment_file_path \"{experiment_file}\""
   ]
  },
  {
   "cell_type": "markdown",
   "metadata": {},
   "source": [
    "## Preprocessing & Training\n",
    "\n",
    "### Data Loading"
   ]
  },
  {
   "cell_type": "code",
   "execution_count": null,
   "metadata": {},
   "outputs": [],
   "source": [
    "# Load data\n",
    "full_data = smnn.load_data(experiment)\n",
    "print(\"full_data Shape:\", full_data.shape)\n",
    "print(\"Remaining NaN values:\", full_data.isna().sum().sum())"
   ]
  },
  {
   "cell_type": "markdown",
   "metadata": {},
   "source": [
    "### Split data into Train and Test set"
   ]
  },
  {
   "cell_type": "code",
   "execution_count": null,
   "metadata": {},
   "outputs": [],
   "source": [
    "train_df, test_df = smnn.custom_train_test_split(full_data)\n",
    "print(\"Train Shape:\", train_df.shape)\n",
    "print(\"Test Shape:\", test_df.shape)"
   ]
  },
  {
   "cell_type": "markdown",
   "metadata": {},
   "source": [
    "### Preprocessing\n",
    "\n",
    "Includes splitting the data into one data frame per signal.\n",
    "This is done for the train and the test set"
   ]
  },
  {
   "cell_type": "code",
   "execution_count": null,
   "metadata": {},
   "outputs": [],
   "source": [
    "# Expand Values of Train set\n",
    "signal_data_train = smnn.split_df_by_signal(train_df)\n",
    "skipped_signals_train = 0\n",
    "\n",
    "for signal_key, df in signal_data_train.items():\n",
    "    try:\n",
    "        df = smnn.expand_signal_df(df)\n",
    "        signal_data_train[signal_key] = df\n",
    "        print(f\"Signal {signal_key} → Shape: {df.shape}\")\n",
    "    except ValueError as e:\n",
    "        skipped_signals_train += 1\n",
    "        print(f\"\\033[91mSkipped Signal {signal_key}: {e}\\033[0m\")\n",
    "\n",
    "print(f\"Expanding of values of train set complete - Signals skipped: {skipped_signals_train}\")"
   ]
  },
  {
   "cell_type": "code",
   "execution_count": null,
   "metadata": {},
   "outputs": [],
   "source": [
    "# Expand Values of Test Set\n",
    "signal_data_test = smnn.split_df_by_signal(test_df)\n",
    "skipped_signals_test = 0\n",
    "\n",
    "for signal_key, df in signal_data_test.items():\n",
    "    try:\n",
    "        df = smnn.expand_signal_df(df)\n",
    "        signal_data_test[signal_key] = df\n",
    "        print(f\"Signal {signal_key} → Shape: {df.shape}\")\n",
    "    except ValueError as e:\n",
    "        skipped_signals_test += 1\n",
    "        print(f\"\\033[91mSkipped Signal {signal_key}: {e}\\033[0m\")\n",
    "\n",
    "print(f\"Expanding of values of test set complete - Signals skipped: {skipped_signals_test}\")"
   ]
  },
  {
   "cell_type": "markdown",
   "metadata": {},
   "source": [
    "## Preprocess Data & Train NN per Signal\n",
    "\n",
    "The epochs, batch_size and hidden layers config can be set and modified individually.\n",
    "Activating the check_for_ambigous_signals flag, excludes signals that have a feature overlap (same value for different ground truth categories)."
   ]
  },
  {
   "cell_type": "code",
   "execution_count": null,
   "metadata": {},
   "outputs": [],
   "source": [
    "## NN hyperparameters\n",
    "epochs = 200\n",
    "batch_size = 64\n",
    "hidden_layers_config = [128, 64, 32]\n",
    "check_for_ambiguous_signals = True\n",
    "\n",
    "results = {}\n",
    "models = {}\n",
    "for signal_key in signal_data_train:\n",
    "    # Check if found test data for signal\n",
    "    if signal_key not in signal_data_test:\n",
    "        print(f\"\\033[93mSkipping {signal_key} — not in test set\\033[0m\")\n",
    "        continue\n",
    "    \n",
    "    if check_for_ambiguous_signals:\n",
    "        # Check whether signal has the same byte value for more then one ground_truth class\n",
    "        if smnn.is_ambiguous_signal(signal_data_train[signal_key]):\n",
    "            print(f\"\\033[93mSkipping {signal_key} — feature overlap between classes\\033[0m\")\n",
    "            continue\n",
    "\n",
    "\n",
    "    try:\n",
    "        # Preprocess data\n",
    "        X_train, y_train = smnn.preprocess_signal_df(signal_data_train[signal_key])\n",
    "        X_test, y_test = smnn.preprocess_signal_df(signal_data_test[signal_key])\n",
    "\n",
    "        # Check for signals with no variance\n",
    "        if smnn.is_useless_signal(train_df) or smnn.is_useless_signal(test_df):\n",
    "            print(f\"\\033[93mSkipping {signal_key} — input features have no variation\\033[0m\")\n",
    "            continue\n",
    "\n",
    "        # Train model\n",
    "        model, metrics = smnn.train_signal_model(X_train, y_train, X_test, y_test, hidden_layers_config=hidden_layers_config, epochs=epochs,batch_size=batch_size)\n",
    "        results[signal_key] = metrics\n",
    "        models[signal_key] = model\n",
    "\n",
    "        mse = metrics['mse']\n",
    "        r2 = metrics['r2']\n",
    "\n",
    "        print(f\"Trained {signal_key} → MSE: {mse:.3f}, R²: {r2:.3f}\")\n",
    "    except Exception as e:\n",
    "        print(f\"\\033[91mFailed {signal_key}: {e}\\033[0m\")"
   ]
  },
  {
   "cell_type": "markdown",
   "metadata": {},
   "source": [
    "## Evaluation of Models\n",
    "\n",
    "Displays the top performing DIDs."
   ]
  },
  {
   "cell_type": "code",
   "execution_count": null,
   "metadata": {},
   "outputs": [],
   "source": [
    "top_n = 50\n",
    "sorted_results = sorted(results.items(), key=lambda x: x[1]['mse'])\n",
    "\n",
    "# Header\n",
    "print(f\"{'Rank':<6} {'Signal':<20} {'Length':<8} {'MSE':<10} {'MAE':<10} {'R²':<10}\")\n",
    "print(\"-\" * 70)\n",
    "\n",
    "for i, (signal_key, metrics) in enumerate(sorted_results[:top_n]):\n",
    "    signal_df = signal_data_train[signal_key]\n",
    "    byte_columns = [col for col in signal_df.columns if col.startswith(\"Byte_\")]\n",
    "    signal_length = len(byte_columns)\n",
    "\n",
    "    mse = metrics['mse']\n",
    "    mae = metrics['mae']\n",
    "    r2 = metrics['r2']\n",
    "    signal_str = f\"{signal_key}\"\n",
    "\n",
    "    row = f\"{i+1:<6} {signal_str:<20} {signal_length:<8} {mse:<10.4f} {mae:<10.4f} {r2:<10.4f}\"\n",
    "\n",
    "    if r2 >= 0.95:\n",
    "        print(Fore.GREEN + row + Style.RESET_ALL)\n",
    "    else:\n",
    "        print(row)\n",
    "\n"
   ]
  },
  {
   "cell_type": "markdown",
   "metadata": {},
   "source": [
    "Ignore below line. Used to enable Run all."
   ]
  },
  {
   "cell_type": "code",
   "execution_count": null,
   "metadata": {},
   "outputs": [],
   "source": [
    "raise SystemExit(\"STOP\")"
   ]
  },
  {
   "cell_type": "markdown",
   "metadata": {},
   "source": [
    "## Validation\n",
    "\n",
    "Display raw train and test data for a specific signal."
   ]
  },
  {
   "cell_type": "code",
   "execution_count": null,
   "metadata": {},
   "outputs": [],
   "source": [
    "signal_key = (16502, 2182) # Speed Drive on VCU\n",
    "#signal_key = (16523, 4110)  # Vehicle Speed Paper\n",
    "#signal_key = (16402, 7951) # Steering Wheel Angle Paper\n",
    "#signal_key = (16395, 11030) # Speed Drive\n",
    "#signal_key = (16508, 16023) # Speed Drive on correct ECU\n",
    "\n",
    "print(f\"Server: {signal_key[0]}, DID: {signal_key[1]}\")\n",
    "print(\"Training Set Data:\")\n",
    "signal_data_train[signal_key]"
   ]
  },
  {
   "cell_type": "code",
   "execution_count": null,
   "metadata": {},
   "outputs": [],
   "source": [
    "print(f\"Server: {signal_key[0]}, DID: {signal_key[1]}\")\n",
    "print(\"Test Set Data:\")\n",
    "signal_data_test[signal_key]"
   ]
  },
  {
   "cell_type": "markdown",
   "metadata": {},
   "source": [
    "### Plot Data"
   ]
  },
  {
   "cell_type": "code",
   "execution_count": null,
   "metadata": {},
   "outputs": [
    {
     "data": {
      "image/png": "[encoded data removed]",
      "text/plain": [
       "<Figure size 1000x400 with 1 Axes>"
      ]
     },
     "metadata": {},
     "output_type": "display_data"
    }
   ],
   "source": [
    "import matplotlib.pyplot as plt\n",
    "\n",
    "# Pick a signal that performed well\n",
    "signal_key = (16523, 4110)\n",
    "signal_key_hex_str = f\"(0x{signal_key[0]:04x}, 0x{signal_key[1]:04x})\"\n",
    "df_train = signal_data_train[signal_key]\n",
    "df_test = signal_data_test[signal_key]\n",
    "\n",
    "# Preprocess the signal\n",
    "X_train, y_train = smnn.preprocess_signal_df(df_train)\n",
    "X_test, y_test = smnn.preprocess_signal_df(df_test)\n",
    "\n",
    "# Train the model (or use your stored model if saved)\n",
    "model, metrics = smnn.train_signal_model(X_train, y_train, X_test, y_test, epochs=500)\n",
    "\n",
    "# Predict\n",
    "model.eval()\n",
    "with torch.no_grad():\n",
    "    preds = model(X_test).squeeze().cpu().numpy()\n",
    "    true = y_test.cpu().numpy()\n",
    "\n",
    "# Plot\n",
    "plt.figure(figsize=(10, 4))\n",
    "plt.plot(true, label=\"True Speed\", marker=\"o\")\n",
    "plt.plot(preds, label=\"Predicted\", marker=\"x\")\n",
    "plt.title(f\"Signal {signal_key_hex_str} — R²: {metrics['r2']:.3f}\")\n",
    "plt.xlabel(\"Sample\")\n",
    "plt.ylabel(\"Speed\")\n",
    "plt.legend()\n",
    "plt.grid(True)\n",
    "plt.tight_layout()\n",
    "plt.show()\n"
   ]
  },
  {
   "cell_type": "markdown",
   "metadata": {},
   "source": [
    "## Additional Code for Debugging\n",
    "\n",
    "Not necessary for using the notebook."
   ]
  },
  {
   "cell_type": "code",
   "execution_count": null,
   "metadata": {},
   "outputs": [],
   "source": [
    "print(train_df.info(), \"\\n\")\n",
    "print(test_df.info(), \"\\n\")\n",
    "print(train_df.head(30), \"\\n\")\n",
    "print(test_df.head(30))"
   ]
  },
  {
   "cell_type": "code",
   "execution_count": null,
   "metadata": {},
   "outputs": [],
   "source": [
    "# Set a threshold for valid signal values (adjust if necessary)\n",
    "MAX_VALID_VALUE = 1e6  # Anything above this is likely incorrect\n",
    "MIN_VALID_VALUE = -1e6\n",
    "\n",
    "# Find invalid data types\n",
    "invalid_signals = train_df[\n",
    "    (train_df[\"Value\"] > MAX_VALID_VALUE) | (train_df[\"Value\"] < MIN_VALID_VALUE)\n",
    "][[\"Server_ID\", \"DID\", \"Data Type\"]].drop_duplicates()\n",
    "\n",
    "print(\"Dropping signals with extreme values:\")\n",
    "print(invalid_signals)\n",
    "\n",
    "# Remove invalid signals from train and test sets\n",
    "train_df = train_df.merge(invalid_signals, on=[\"Server_ID\", \"DID\", \"Data Type\"], how=\"left\", indicator=True)\n",
    "train_df = train_df[train_df[\"_merge\"] == \"left_only\"].drop(columns=[\"_merge\"])\n",
    "\n",
    "test_df = test_df.merge(invalid_signals, on=[\"Server_ID\", \"DID\", \"Data Type\"], how=\"left\", indicator=True)\n",
    "test_df = test_df[test_df[\"_merge\"] == \"left_only\"].drop(columns=[\"_merge\"])\n"
   ]
  },
  {
   "cell_type": "code",
   "execution_count": null,
   "metadata": {},
   "outputs": [],
   "source": [
    "import pandas as pd\n",
    "import numpy as np\n",
    "from sklearn.model_selection import train_test_split\n",
    "from sklearn.preprocessing import StandardScaler, RobustScaler\n",
    "from sklearn.metrics import mean_squared_error\n",
    "import torch\n",
    "\n",
    "# Standardization\n",
    "scaler = RobustScaler()\n",
    "\n",
    "# Group data by (Server_ID, DID, Data Type) to train individual models\n",
    "unique_signals = train_df.groupby([\"Server_ID\", \"DID\", \"Data Type\"])\n",
    "unique_speeds_expected = len(train_df[\"Speed\"].unique())\n",
    "\n",
    "results = []\n",
    "models = {}\n",
    "\n",
    "for (server_id, did, dtype), group in unique_signals:\n",
    "    print(f\"Checking signal: Server_ID={server_id}, DID={did}, Data_Type={dtype}\")\n",
    "\n",
    "    # Drop rows with missing values\n",
    "    group = group.dropna(subset=[\"Speed\", \"Value\"])\n",
    "\n",
    "    # Check if all 12 unique speeds are present\n",
    "    unique_speeds = group[\"Speed\"].nunique()\n",
    "    if unique_speeds < unique_speeds_expected:\n",
    "        print(f\"Skipping {server_id}-{did}-{dtype}: only {unique_speeds} unique speeds\")\n",
    "        continue\n",
    "\n",
    "    print(f\"Training model for Server_ID={server_id}, DID={did}, Data_Type={dtype}\")\n",
    "\n",
    "    # Extract input and target\n",
    "    train_X = group[\"Value\"].values.reshape(-1, 1)\n",
    "    train_y = group[\"Speed\"].values\n",
    "\n",
    "    # Filter and clean test data\n",
    "    test_group = test_df[\n",
    "        (test_df[\"Server_ID\"] == server_id) & \n",
    "        (test_df[\"DID\"] == did) & \n",
    "        (test_df[\"Data Type\"] == dtype)\n",
    "    ].dropna(subset=[\"Speed\", \"Value\"])\n",
    "\n",
    "    if test_group.empty:\n",
    "        print(f\"Skipping {server_id}-{did}-{dtype} due to missing test data\")\n",
    "        continue\n",
    "\n",
    "    test_X = test_group[\"Value\"].values.reshape(-1, 1)\n",
    "    test_y = test_group[\"Speed\"].values\n",
    "\n",
    "    # Normalize values\n",
    "    train_X = scaler.fit_transform(train_X)\n",
    "    test_X = scaler.transform(test_X)\n",
    "\n",
    "    # Train Model\n",
    "    model = smnn.train_model(train_X, train_y, test_X, test_y, epochs=200, lr=0.0005)\n",
    "\n",
    "    # Store trained model\n",
    "    models[(server_id, did, dtype)] = model\n",
    "\n",
    "    # Evaluate Model\n",
    "    model.eval()\n",
    "    test_X_tensor = torch.tensor(test_X, dtype=torch.float32)\n",
    "    predictions = model(test_X_tensor).detach().numpy().flatten()\n",
    "\n",
    "    mse = mean_squared_error(test_y, predictions)\n",
    "    results.append((server_id, did, dtype, mse))\n",
    "\n",
    "\n",
    "\n",
    "# Convert results to DataFrame and find the best predictor\n",
    "results_df = pd.DataFrame(results, columns=[\"Server_ID\", \"DID\", \"Data Type\", \"MSE\"])\n",
    "best_signal = results_df.sort_values(\"MSE\").iloc[0]\n",
    "\n",
    "print(\"\\nBest Predictor:\")\n",
    "print(best_signal)"
   ]
  },
  {
   "cell_type": "code",
   "execution_count": null,
   "metadata": {},
   "outputs": [],
   "source": [
    "# Convert results to DataFrame\n",
    "results_df = pd.DataFrame(results, columns=[\"Server_ID\", \"DID\", \"Data Type\", \"MSE\"])\n",
    "\n",
    "# Filter signals with MSE below the set treshold\n",
    "threshold = 3000\n",
    "filtered_signals = results_df[results_df[\"MSE\"] < threshold]\n",
    "\n",
    "# Print all signals that meet the threshold\n",
    "if not filtered_signals.empty:\n",
    "    print(f\"\\nFound {len(filtered_signals)} signals with MSE below {threshold}:\")\n",
    "    print(filtered_signals.sort_values(\"MSE\"))\n",
    "else:\n",
    "    print(\"\\nNo signals found with MSE below\", threshold)"
   ]
  },
  {
   "cell_type": "code",
   "execution_count": null,
   "metadata": {},
   "outputs": [],
   "source": [
    "import matplotlib.pyplot as plt\n",
    "\n",
    "# Filter results for best signals\n",
    "best_signals = results_df[results_df[\"MSE\"] < threshold]\n",
    "\n",
    "# Plot predictions vs. ground truth for each signal\n",
    "plt.figure(figsize=(12, 8))\n",
    "\n",
    "for index, row in best_signals.iterrows():\n",
    "    server_id, did, dtype = row[\"Server_ID\"], row[\"DID\"], row[\"Data Type\"]\n",
    "\n",
    "    # Extract test set for this specific signal\n",
    "    test_group = test_df[\n",
    "        (test_df[\"Server_ID\"] == server_id) & \n",
    "        (test_df[\"DID\"] == did) & \n",
    "        (test_df[\"Data Type\"] == dtype)\n",
    "    ]\n",
    "\n",
    "    if test_group.empty:\n",
    "        continue\n",
    "\n",
    "    test_X = test_group[\"Value\"].values.reshape(-1, 1)\n",
    "    test_y = test_group[\"Speed\"].values\n",
    "\n",
    "    # Normalize values\n",
    "    scaler = StandardScaler()\n",
    "    test_X = scaler.fit_transform(test_X)\n",
    "\n",
    "    # Convert to tensor and predict\n",
    "    test_X_tensor = torch.tensor(test_X, dtype=torch.float32)\n",
    "    predictions = models[(server_id, did, dtype)](test_X_tensor).detach().numpy().flatten()\n",
    "\n",
    "    # Scatter plot of Ground Truth vs. Predictions\n",
    "    plt.scatter(test_y, predictions, label=f\"{server_id}-{did}-{dtype}\", alpha=0.6)\n",
    "\n",
    "plt.plot([0, 120], [0, 120], linestyle=\"--\", color=\"red\", label=\"Perfect Fit\")  # Diagonal line\n",
    "plt.xlabel(\"Ground Truth Speed (km/h)\")\n",
    "plt.ylabel(\"Predicted Speed (km/h)\")\n",
    "plt.title(\"Ground Truth vs. Predicted Speed for Best Signals\")\n",
    "plt.legend()\n",
    "plt.grid(True)\n",
    "plt.show()\n"
   ]
  },
  {
   "cell_type": "code",
   "execution_count": null,
   "metadata": {},
   "outputs": [],
   "source": [
    "import pandas as pd\n",
    "import torch\n",
    "\n",
    "# Define the target signal\n",
    "TARGET_SERVER_ID = 16452\n",
    "TARGET_DID = 18802\n",
    "TARGET_DATA_TYPE = '<i2'\n",
    "\n",
    "# Extract the test data for the target signal\n",
    "target_test_group = test_df[\n",
    "    (test_df[\"Server_ID\"] == TARGET_SERVER_ID) &\n",
    "    (test_df[\"DID\"] == TARGET_DID) &\n",
    "    (test_df[\"Data Type\"] == TARGET_DATA_TYPE)\n",
    "]\n",
    "\n",
    "if target_test_group.empty:\n",
    "    print(f\"No test data found for Server_ID={TARGET_SERVER_ID}, DID={TARGET_DID}, Data Type={TARGET_DATA_TYPE}\")\n",
    "else:\n",
    "    # Extract input values\n",
    "    test_X = target_test_group[\"Value\"].values.reshape(-1, 1)\n",
    "    test_y = target_test_group[\"Speed\"].values\n",
    "    \n",
    "    # Normalize input values\n",
    "    test_X = scaler.transform(test_X)\n",
    "    \n",
    "    # Retrieve the trained model\n",
    "    model = models.get((TARGET_SERVER_ID, TARGET_DID, TARGET_DATA_TYPE))\n",
    "    \n",
    "    if model is None:\n",
    "        print(f\"No trained model found for Server_ID={TARGET_SERVER_ID}, DID={TARGET_DID}, Data Type={TARGET_DATA_TYPE}\")\n",
    "    else:\n",
    "        # Predict speeds\n",
    "        model.eval()\n",
    "        test_X_tensor = torch.tensor(test_X, dtype=torch.float32)\n",
    "        predictions = model(test_X_tensor).detach().numpy().flatten()\n",
    "        \n",
    "        # Create DataFrame to display results\n",
    "        results_df = pd.DataFrame({\n",
    "            \"Value\": target_test_group[\"Value\"].values,\n",
    "            \"Ground Truth Speed\": test_y,\n",
    "            \"Predicted Speed\": predictions\n",
    "        })\n",
    "        \n",
    "        # Display results in a tabular format\n",
    "        print(results_df.head(20))  # Display the first 20 rows for quick\n"
   ]
  },
  {
   "cell_type": "code",
   "execution_count": null,
   "metadata": {},
   "outputs": [],
   "source": [
    "from collections import Counter\n",
    "\n",
    "expected_speeds = set([10, 20, 30, 40, 50, 60, 70, 80, 90, 100, 110, 120])\n",
    "required_train_samples = 3\n",
    "required_test_samples = 2\n",
    "\n",
    "valid_signals = []\n",
    "\n",
    "# Group by signal\n",
    "grouped = train_df.groupby([\"Server_ID\", \"DID\", \"Data Type\"])\n",
    "\n",
    "for signal_key, train_group in grouped:\n",
    "    # Check if all expected speeds are present\n",
    "    train_speeds = train_group[\"Speed\"].value_counts()\n",
    "    \n",
    "    if not expected_speeds.issubset(train_speeds.index):\n",
    "        continue  # skip if some speeds are missing\n",
    "\n",
    "    # Check sample count per speed\n",
    "    if not all(train_speeds[speed] == required_train_samples for speed in expected_speeds):\n",
    "        continue  # skip if sample count per speed isn't exactly as expected\n",
    "\n",
    "    # Now check the corresponding test group\n",
    "    server_id, did, dtype = signal_key\n",
    "    test_group = test_df[\n",
    "        (test_df[\"Server_ID\"] == server_id) &\n",
    "        (test_df[\"DID\"] == did) &\n",
    "        (test_df[\"Data Type\"] == dtype)\n",
    "    ]\n",
    "    test_speeds = test_group[\"Speed\"].value_counts()\n",
    "\n",
    "    if not expected_speeds.issubset(test_speeds.index):\n",
    "        continue  # skip if some speeds missing in test\n",
    "\n",
    "    if not all(test_speeds[speed] == required_test_samples for speed in expected_speeds):\n",
    "        continue  # skip if test sample count isn't exact\n",
    "\n",
    "    # If passed all checks, add to valid list\n",
    "    valid_signals.append(signal_key)\n",
    "\n",
    "# Output results\n",
    "print(f\"Found {len(valid_signals)} valid signals with full coverage and expected sample counts.\")\n",
    "for sig in valid_signals:\n",
    "    print(f\"Server_ID={sig[0]}, DID={sig[1]}, Data Type={sig[2]}\")\n"
   ]
  },
  {
   "cell_type": "code",
   "execution_count": null,
   "metadata": {},
   "outputs": [],
   "source": [
    "# Display the first few rows\n",
    "full_data.head(30)"
   ]
  },
  {
   "cell_type": "code",
   "execution_count": null,
   "metadata": {},
   "outputs": [],
   "source": [
    "full_data.info()"
   ]
  },
  {
   "cell_type": "code",
   "execution_count": null,
   "metadata": {},
   "outputs": [],
   "source": [
    "nan_rows = full_data[full_data.isna().any(axis=1)]\n",
    "print(nan_rows)\n"
   ]
  },
  {
   "cell_type": "code",
   "execution_count": null,
   "metadata": {},
   "outputs": [],
   "source": [
    "for col in full_data.columns[4:]:  # Only apply to Value_* columns\n",
    "    full_data[col] = pd.to_numeric(full_data[col], errors='coerce')\n",
    "print(full_data.dtypes)"
   ]
  },
  {
   "cell_type": "code",
   "execution_count": null,
   "metadata": {},
   "outputs": [],
   "source": [
    "print(\"Infinity values:\", np.isinf(full_data.iloc[:, 4:]).sum().sum())"
   ]
  },
  {
   "cell_type": "code",
   "execution_count": null,
   "metadata": {},
   "outputs": [],
   "source": [
    "print(\"Missing values per column:\\n\", full_data.isnull().sum())"
   ]
  },
  {
   "cell_type": "code",
   "execution_count": null,
   "metadata": {},
   "outputs": [],
   "source": [
    "print(f\"{len(full_data['Speed'].unique())} unique speed values:\", full_data[\"Speed\"].unique())"
   ]
  },
  {
   "cell_type": "code",
   "execution_count": null,
   "metadata": {},
   "outputs": [],
   "source": [
    "print(f\"{len(full_data['Data Type'].unique())} unique data type values:\", full_data[\"Data Type\"].unique())"
   ]
  },
  {
   "cell_type": "code",
   "execution_count": null,
   "metadata": {},
   "outputs": [],
   "source": [
    "full_data.describe()"
   ]
  },
  {
   "cell_type": "code",
   "execution_count": null,
   "metadata": {},
   "outputs": [],
   "source": [
    "full_data[full_data[\"Speed\"] == 20].head()"
   ]
  },
  {
   "cell_type": "code",
   "execution_count": null,
   "metadata": {},
   "outputs": [],
   "source": [
    "print(f\"Dataset contains {full_data.shape[0]} rows and {full_data.shape[1]} columns.\")"
   ]
  }
 ],
 "metadata": {
  "kernelspec": {
   "display_name": "revcan-Tm9u8sAl-py3.10",
   "language": "python",
   "name": "python3"
  },
  "language_info": {
   "codemirror_mode": {
    "name": "ipython",
    "version": 3
   },
   "file_extension": ".py",
   "mimetype": "text/x-python",
   "name": "python",
   "nbconvert_exporter": "python",
   "pygments_lexer": "ipython3",
   "version": "3.10.12"
  }
 },
 "nbformat": 4,
 "nbformat_minor": 2
}
