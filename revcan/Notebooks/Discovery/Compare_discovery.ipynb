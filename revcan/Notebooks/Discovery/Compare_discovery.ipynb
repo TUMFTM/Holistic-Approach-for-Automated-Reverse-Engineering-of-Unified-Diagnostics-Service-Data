{
 "cells": [
  {
   "cell_type": "markdown",
   "metadata": {},
   "source": [
    "# Comparison of different discovery runs\n",
    "This notebook can be used to compare different discovery test runs.\n",
    "\n",
    "## Imports"
   ]
  },
  {
   "cell_type": "code",
   "execution_count": null,
   "metadata": {},
   "outputs": [],
   "source": [
    "import matplotlib.pyplot as plt\n",
    "import numpy as np\n",
    "import pandas as pd\n",
    "import sys\n",
    "import os\n",
    "\n",
    "# Add the path to revcan\n",
    "sys.path.append(\"../../..\")\n",
    "\n",
    "from revcan.reverse_engineering.models.car_metadata import Car"
   ]
  },
  {
   "cell_type": "markdown",
   "metadata": {},
   "source": [
    "## Set file names\n",
    "Set the names of the files, you want to compare here (Separated with ',').\n",
    "Check also the output_dir of your files."
   ]
  },
  {
   "cell_type": "code",
   "execution_count": null,
   "metadata": {},
   "outputs": [],
   "source": [
    "# TODO: Set list of car file names\n",
    "car_file_names = [\n",
    "    \"model_vin_date-created.json\",\n",
    "    \"model_vin_date-created.json\",\n",
    "    \"model_vin_date-created.json\"\n",
    "]\n",
    "\n",
    "# TODO: Check directory of files\n",
    "output_dir = \"../../../data/car_metadata\""
   ]
  },
  {
   "cell_type": "markdown",
   "metadata": {},
   "source": [
    "## Compare DID Discovery times per server for different test runs"
   ]
  },
  {
   "cell_type": "code",
   "execution_count": null,
   "metadata": {},
   "outputs": [],
   "source": [
    "def format_seconds_to_hms(seconds):\n",
    "    if np.isnan(seconds):\n",
    "        return \"--:--:--\"\n",
    "    hours, remainder = divmod(int(seconds), 3600)\n",
    "    minutes, seconds = divmod(remainder, 60)\n",
    "    return f\"{hours:02}:{minutes:02}:{seconds:02}\"\n",
    "\n",
    "def load_did_discovery_data_per_server(car_file_names):\n",
    "    discovery_times = {}\n",
    "    did_counts = {}\n",
    "    test_names = {}\n",
    "    servers_set = set()\n",
    "\n",
    "    for car_file_name in car_file_names:\n",
    "        file_path = os.path.abspath(f\"{output_dir}/{car_file_name}\")\n",
    "        try:\n",
    "            car = Car.load(file_path)\n",
    "        except Exception as e:\n",
    "            print(f\"Error loading {file_path}: {e}\")\n",
    "            continue\n",
    "\n",
    "        test_names[car_file_name] = getattr(car, \"test_name\", car_file_name)\n",
    "        server_times = {f\"{server.id}\": server.did_discovery_time_seconds for server in car.servers if server.did_discovery_time_seconds > 0 and server.discovery_complete_flag == True}\n",
    "        server_did_counts = {f\"{server.id}\": len(server.parameters) for server in car.servers if server.did_discovery_time_seconds > 0}\n",
    "\n",
    "        discovery_times[car_file_name] = server_times\n",
    "        did_counts[car_file_name] = server_did_counts\n",
    "        servers_set.update(server_times.keys())\n",
    "    \n",
    "    sorted_servers = sorted(list(servers_set))\n",
    "    num_files = len(car_file_names)\n",
    "    num_servers = len(sorted_servers)\n",
    "\n",
    "    # Initialize arrays with NaN (to handle missing values)\n",
    "    discovery_times_array = np.full((num_files, num_servers), np.nan)\n",
    "    did_counts_array = np.full((num_files, num_servers), np.nan)\n",
    "\n",
    "    for i, car_file_name in enumerate(car_file_names):\n",
    "        for j, server in enumerate(sorted_servers):\n",
    "            if server in discovery_times.get(car_file_name, {}):\n",
    "                discovery_times_array[i, j] = discovery_times[car_file_name][server]\n",
    "            if server in did_counts.get(car_file_name, {}):\n",
    "                did_counts_array[i, j] = did_counts[car_file_name][server]\n",
    "\n",
    "    return discovery_times_array, did_counts_array, sorted_servers, test_names\n",
    "\n",
    "# Load discovery times per server\n",
    "discovery_times_np, did_counts_np, servers_sorted, test_names = load_did_discovery_data_per_server(car_file_names)\n",
    "\n",
    "# Plot discovery times per server\n",
    "plt.figure(figsize=(14, 6))\n",
    "\n",
    "for i, file_path in enumerate(car_file_names):\n",
    "    times = discovery_times_np[i]\n",
    "    plt.plot(servers_sorted, times, marker='o', label=test_names[file_path])\n",
    "\n",
    "plt.xticks(rotation=45, ha='right')\n",
    "plt.ylabel('DID Discovery Time (seconds)')\n",
    "plt.xlabel('Servers')\n",
    "plt.title('DID Discovery Times Per Server Across Test Runs')\n",
    "plt.legend()\n",
    "plt.grid(axis='y', linestyle='--', alpha=0.7)\n",
    "plt.show()\n",
    "\n",
    "# Convert discovery times to hh:mm:ss format\n",
    "discovery_times_hms = np.vectorize(format_seconds_to_hms)(discovery_times_np)\n"
   ]
  },
  {
   "cell_type": "code",
   "execution_count": null,
   "metadata": {},
   "outputs": [],
   "source": [
    "discovery_times_df = pd.DataFrame(discovery_times_hms, index=[test_names[file] for file in car_file_names], columns=servers_sorted).T\n",
    "discovery_times_df.index.name = \"Server IDs\"\n",
    "print(\"\\nDiscovery Times Per Server:\")\n",
    "discovery_times_df"
   ]
  },
  {
   "cell_type": "code",
   "execution_count": null,
   "metadata": {},
   "outputs": [],
   "source": [
    "did_counts_df = pd.DataFrame(did_counts_np, index=[test_names[file] for file in car_file_names], columns=servers_sorted).T\n",
    "did_counts_df.index.name = \"Server IDs\"\n",
    "pd.options.display.float_format = '{:,.0f}'.format # Display floats as integers\n",
    "print(\"\\nNumber of DIDs Found Per Server:\")\n",
    "did_counts_df"
   ]
  }
 ],
 "metadata": {
  "kernelspec": {
   "display_name": "revcan-Tm9u8sAl-py3.10",
   "language": "python",
   "name": "python3"
  },
  "language_info": {
   "codemirror_mode": {
    "name": "ipython",
    "version": 3
   },
   "file_extension": ".py",
   "mimetype": "text/x-python",
   "name": "python",
   "nbconvert_exporter": "python",
   "pygments_lexer": "ipython3",
   "version": "3.10.12"
  }
 },
 "nbformat": 4,
 "nbformat_minor": 2
}
