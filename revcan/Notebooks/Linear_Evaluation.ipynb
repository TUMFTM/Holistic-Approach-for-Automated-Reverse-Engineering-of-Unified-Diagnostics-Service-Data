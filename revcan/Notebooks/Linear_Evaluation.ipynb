{
 "cells": [
  {
   "cell_type": "markdown",
   "id": "facbb889",
   "metadata": {},
   "source": [
    "## Imports for Evaluation"
   ]
  },
  {
   "cell_type": "code",
   "execution_count": null,
   "id": "93cc4f32",
   "metadata": {},
   "outputs": [],
   "source": [
    "import numpy as np\n",
    "import matplotlib.pyplot as plt\n",
    "import ipywidgets as widgets\n",
    "from IPython.display import display\n",
    "from pathlib import Path\n",
    "from datetime import datetime\n",
    "from revcan.reverse_engineering.models.experiment import Experiment\n",
    "from revcan.reverse_engineering.models.solutions import Solutions\n",
    "import matplotlib.pyplot as plt\n",
    "import matplotlib as mpl"
   ]
  },
  {
   "cell_type": "markdown",
   "id": "fb39a0b0",
   "metadata": {},
   "source": [
    "### Analyze Experiment\n",
    "\n",
    "Set path to combined experiment folder"
   ]
  },
  {
   "cell_type": "code",
   "execution_count": null,
   "id": "4db1d3a2",
   "metadata": {},
   "outputs": [],
   "source": [
    "\n",
    "experiment_folder = \"../../data/experiments/car/accelerator_pedal_position\""
   ]
  },
  {
   "cell_type": "markdown",
   "id": "eade2144",
   "metadata": {},
   "source": [
    "## Start analysis\n",
    "\n",
    "Python Interactive mode used in Jupyter Notebooks can sometimes cause problems with multiprocess applications.\n",
    "\n",
    "If you can't execute the cell below, try to restart the kernel, use the commented line or rune the line in a command line.\n",
    "\n",
    "The analysis can run for multiple hours"
   ]
  },
  {
   "cell_type": "code",
   "execution_count": null,
   "id": "c5304946",
   "metadata": {},
   "outputs": [],
   "source": [
    "\n",
    "#!python -u ../scripts_for_doip_new/experiment_analysis_parallel.py --experiment_file_path \"{Path(experiment_folder).absolute()}/combined.json\" --output_file_path \"{Path(experiment_folder).absolute()}/solution.json\"\n",
    "%run ../scripts_for_doip_new/experiment_analysis_parallel.py --experiment_file_path \"{Path(experiment_folder).absolute()}/combined.json\" --output_file_path \"{Path(experiment_folder).absolute()}/solution.json\""
   ]
  },
  {
   "cell_type": "markdown",
   "id": "b0501b8a",
   "metadata": {},
   "source": [
    "Load results from analysis"
   ]
  },
  {
   "cell_type": "code",
   "execution_count": null,
   "id": "b7f9a6f3",
   "metadata": {},
   "outputs": [],
   "source": [
    "\n",
    "solutions = Solutions.load(f\"{Path(experiment_folder).absolute()}/solution.json\")"
   ]
  },
  {
   "cell_type": "markdown",
   "id": "a6c6ef65",
   "metadata": {},
   "source": [
    "Sort results by residuals"
   ]
  },
  {
   "cell_type": "code",
   "execution_count": null,
   "id": "5a73c4c6",
   "metadata": {},
   "outputs": [],
   "source": [
    "sorted_solutions = sorted(solutions.solutions, key = lambda s:s.residuals[0])"
   ]
  },
  {
   "cell_type": "code",
   "execution_count": null,
   "id": "b50a6e40",
   "metadata": {},
   "outputs": [],
   "source": [
    "\n",
    "\n",
    "#TODO set following values\n",
    "n_signals_to_plot=1 #number of traces to plot\n",
    "ylabel = \"Accelerator pedal position in %\" # y axis label\n",
    "output_file_name = \"Pedal_position\"\n",
    "\n",
    "mpl.rcParams['font.family']='Times New Roman'\n",
    "plt.figure(figsize=(6, 3))\n",
    "\n",
    "x_gt = list(range(0,len(sorted_solutions[0].y)))\n",
    "y_gt = []\n",
    "for i in range(0,len(solutions.groundtruth.values),int (len(solutions.groundtruth.values)/len(sorted_solutions[0].y))):\n",
    "    y_gt.append(solutions.groundtruth.values[i].value[0])\n",
    "\n",
    "plt.plot(x_gt,y_gt, label='Ground truth', marker='x')\n",
    "\n",
    "\n",
    "for i in range(0,n_signals_to_plot):\n",
    "    plt.plot(list(range(0,len(sorted_solutions[0].y))), sorted_solutions[i].x*sorted_solutions[i].coefficients[0]+sorted_solutions[i].coefficients[1], label=f'Best match {i+1}', marker='o')\n",
    "    print(sorted_solutions[i])\n",
    "\n",
    "\n",
    "plt.xlabel(\"Sample number\")\n",
    "plt.ylabel(ylabel)\n",
    "plt.legend()\n",
    "plt.grid(True)\n",
    "plt.xticks(range(0, max(x_gt) + 1))\n",
    "plt.tight_layout()\n",
    "plt.savefig(f\"outputs/{output_file_name}.pdf\")\n",
    "plt.savefig(f\"outputs/{output_file_name}.svg\")\n",
    "plt.savefig(f\"outputs/{output_file_name}.eps\")\n",
    "plt.show()"
   ]
  }
 ],
 "metadata": {
  "language_info": {
   "name": "python"
  }
 },
 "nbformat": 4,
 "nbformat_minor": 5
}
