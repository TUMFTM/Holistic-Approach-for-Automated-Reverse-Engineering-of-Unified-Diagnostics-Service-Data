{
 "cells": [
  {
   "cell_type": "markdown",
   "metadata": {},
   "source": [
    "# Accelerator Pedal Experiments\n",
    "## Imports"
   ]
  },
  {
   "cell_type": "code",
   "execution_count": 1,
   "metadata": {},
   "outputs": [],
   "source": [
    "from pathlib import Path\n",
    "from datetime import date\n",
    "import os\n",
    "import subprocess\n",
    "from datetime import datetime\n",
    "from copy import deepcopy\n",
    "from revcan.reverse_engineering.models.experiment import Experiment"
   ]
  },
  {
   "cell_type": "markdown",
   "metadata": {},
   "source": [
    "## Create Necessary Experiment Files\n",
    "\n",
    "### TODO: \n",
    "Set & check the following parameters:\n",
    "- **Car Model File Name**: Specify the name of the car model file (`{model}_{vin}_{date-created}.json`).\n",
    "- **Car Model Directory**: Check the directory path where the car model file is stored (Default: `../../data/car_metadata`).\n",
    "- **Experiment Folder**: Set the path for the experiment folder where the results will be saved (Default: `../../data/experiments/{car}/{experiment}/{date-today}`)."
   ]
  },
  {
   "cell_type": "code",
   "execution_count": 3,
   "metadata": {},
   "outputs": [
    {
     "name": "stdout",
     "output_type": "stream",
     "text": [
      "Experiment file path: ../../data/experiments/car/accelerator_pedal_position/2025-07-03/accelerator_pedal_position_2kN.json\n",
      "Experiment file path: ../../data/experiments/car/accelerator_pedal_position/2025-07-03/accelerator_pedal_position_3kN.json\n",
      "Experiment file path: ../../data/experiments/car/accelerator_pedal_position/2025-07-03/accelerator_pedal_position_4kN.json\n",
      "Experiment file path: ../../data/experiments/car/accelerator_pedal_position/2025-07-03/accelerator_pedal_position_5kN.json\n",
      "Experiment file path: ../../data/experiments/car/accelerator_pedal_position/2025-07-03/accelerator_pedal_position_6kN.json\n",
      "Experiment file path: ../../data/experiments/car/accelerator_pedal_position/2025-07-03/accelerator_pedal_position_7kN.json\n",
      "Experiment file path: ../../data/experiments/car/accelerator_pedal_position/2025-07-03/accelerator_pedal_position_8kN.json\n",
      "Experiment file path: ../../data/experiments/car/accelerator_pedal_position/2025-07-03/accelerator_pedal_position_9kN.json\n",
      "Experiment file path: ../../data/experiments/car/accelerator_pedal_position/2025-07-03/accelerator_pedal_position_10kN.json\n"
     ]
    }
   ],
   "source": [
    "car_model_file_name = \"model_vin_date-created.json\" # TODO: Set correct car model file name\n",
    "car_model_dir = \"../../data/car_metadata\" # TODO: Check directory of car model file\n",
    "experiment_folder = \"../../data/experiments/car/accelerator_pedal_position/\" + date.today().strftime(\"%Y-%m-%d\") # TODO: Set directory where experiment files should be saved to\n",
    "\n",
    "car_model_file_name = \"Taycan_WP0ZZZY1ZNSA03489_2025-02-06_4batch.json\"\n",
    "car_model_dir = \"../../data/car_metadata\"\n",
    "#experiment_folder = \"../../data/experiments/taycan/accelerator_pedal_position/\"\n",
    "\n",
    "car_model_file = f\"{car_model_dir}/{car_model_file_name}\"\n",
    "car_model_file_path = os.path.abspath(car_model_file)\n",
    "Path(experiment_folder).mkdir(parents=True, exist_ok=True)\n",
    "\n",
    "\n",
    "accelerator_pedal_positions=[\"2kN\", \"3kN\",\"4kN\",\"5kN\",\"6kN\",\"7kN\",\"8kN\",\"9kN\",\"10kN\"] #TODO: Adjust entries as needed for the vehicle under test\n",
    "\n",
    "for accelerator_pedal_position in accelerator_pedal_positions:\n",
    "\n",
    "    experiment_file_path = os.path.join(experiment_folder, \"accelerator_pedal_position_\"+accelerator_pedal_position+\".json\")\n",
    "    experiment_name = f\"Accelerator Pedal Position - {accelerator_pedal_position}\"\n",
    "    experiment_description = f\"accelerator pedal position signal discovery using {len(accelerator_pedal_positions)} positions.\"\n",
    "    signal_selection =\"all\"\n",
    "    print(f\"Experiment file path: {experiment_file_path}\")\n",
    "    !python ../scripts_for_doip_new/04_create_experiment.py --car_model_file_path {car_model_file_path} --experiment_file_path '{experiment_file_path}' --experiment_name '{experiment_name}' --experiment_description '{experiment_description}' --signal_selection {signal_selection}\n",
    "\n"
   ]
  },
  {
   "cell_type": "markdown",
   "metadata": {},
   "source": [
    "## [Optional]: Set Experiment Names manually"
   ]
  },
  {
   "cell_type": "code",
   "execution_count": null,
   "metadata": {},
   "outputs": [],
   "source": [
    "car_model_file_name = \"model_vin_date-created.json\"\n",
    "car_model_dir = \"../../data/car_metadata\"\n",
    "experiment_folder = \"../../data/experiments/car/accelerator_pedal_position/2025-04-03_16_29_04\"\n",
    "accelerator_pedal_positions=[\"2kN\", \"3kN\",\"4kN\",\"5kN\",\"6kN\",\"7kN\",\"8kN\",\"9kN\",\"10kN\"]\n",
    "\n",
    "car_model_file = f\"{car_model_dir}/{car_model_file_name}\"\n",
    "car_model_file_path = os.path.abspath(car_model_file)\n"
   ]
  },
  {
   "cell_type": "markdown",
   "metadata": {},
   "source": [
    "# Measurements"
   ]
  },
  {
   "cell_type": "markdown",
   "metadata": {},
   "source": [
    "## Measurement - Tractive Force XkN\n",
    "**Before** executing the next Cell:\n",
    "\n",
    "- Set dynamometer to: 10km/h\n",
    "\n",
    "- Operate the accelerator pedal so that the corresponding value in kN is shown for the tractive force.\n",
    "\n",
    "Start measurement\n",
    "\n",
    "\n",
    "In order to apply **pre-filtering** strategy:\n",
    "\n",
    "After **2** measurements: \n",
    "\n",
    "- execute the Filter Cells below and **return**\n",
    "- complete the remaining measurements.\n",
    "- Continue normal flow of cells."
   ]
  },
  {
   "cell_type": "code",
   "execution_count": 5,
   "metadata": {},
   "outputs": [
    {
     "name": "stdout",
     "output_type": "stream",
     "text": [
      "Sample 1/1: Reading did 0x4e41 for server 0x400e - 318/6263  \n",
      "Read data interrupted. Time elapsed: 15.363126754760742 seconds.\n",
      "^C\n"
     ]
    }
   ],
   "source": [
    "accelerator_pedal_position = \"9kN\" #TODO set value which is tested\n",
    "sample_number = 1 #TODO set number of samples to record\n",
    "experiment_path = os.path.join(experiment_folder, f\"accelerator_pedal_position_{accelerator_pedal_position}.json\")\n",
    "!python ../scripts_for_doip_new/05_read_data.py --experiment_file_path \"{experiment_path}\" --activate_logging true --num_samples \"{sample_number}\"\n"
   ]
  },
  {
   "cell_type": "markdown",
   "metadata": {},
   "source": [
    "# Evaluation"
   ]
  },
  {
   "cell_type": "markdown",
   "metadata": {},
   "source": [
    "## [Optional] Display Experiment Metadata"
   ]
  },
  {
   "cell_type": "code",
   "execution_count": null,
   "metadata": {},
   "outputs": [],
   "source": [
    "# Display Experiment\n",
    "for accelerator_pedal_position in accelerator_pedal_positions:\n",
    "    experiment_file = os.path.join(experiment_folder, f\"accelerator_pedal_position_{accelerator_pedal_position}.json\")\n",
    "    !python ../scripts_for_doip_new/display_experiment_metadata.py --experiment_file_path \"{experiment_file}\"\n"
   ]
  },
  {
   "cell_type": "markdown",
   "metadata": {},
   "source": [
    "## Load Experiments\n",
    "\n",
    "Load all relevant experiments needed for this analysis"
   ]
  },
  {
   "cell_type": "code",
   "execution_count": null,
   "metadata": {},
   "outputs": [],
   "source": [
    "experiment_files = {}\n",
    "experiments = {}\n",
    "\n",
    "for accelerator_pedal_position in accelerator_pedal_positions:\n",
    "    experiment_files[accelerator_pedal_position] = os.path.join(experiment_folder, f\"accelerator_pedal_position_{accelerator_pedal_position}.json\")\n",
    "    experiments[accelerator_pedal_position] = Experiment.load(experiment_files[accelerator_pedal_position])"
   ]
  },
  {
   "cell_type": "markdown",
   "metadata": {},
   "source": [
    "## Add Ground truth\n",
    "Add ground truth data for acellerator pedal position. By experiment design these are fixed values, and are added manually in this case"
   ]
  },
  {
   "cell_type": "code",
   "execution_count": null,
   "metadata": {},
   "outputs": [],
   "source": [
    "from datetime import timedelta\n",
    "import datetime\n",
    "from typing import List\n",
    "from copy import deepcopy\n",
    "from revcan.reverse_engineering.models.experiment import Extern_Signal, Value\n",
    "\n",
    "#TODO adjust Values for factor and values_map\n",
    "factor = 100/13.5 #100%/max_test_value\n",
    "\n",
    "testvalues=[\"2\",\"3\",\"4\",\"5\",\"6\",\"7\",\"8\",\"9\",\"10\",\"13_5\"]\n",
    "values_to_value_map={\"2\":int(2*factor),\"3\":int(3*factor),\"4\":int(4*factor),\"5\":int(5*factor),\"6\":int(6*factor),\"7\":int(7*factor),\"8\":int(8*factor),\"9\":int(9*factor),\"10\":int(10*factor),\"13_5\":100}\n",
    "\n",
    "\n",
    "for force in testvalues:\n",
    "    experiments[force].external_measurements.append(Extern_Signal( name = \"Pulling force\", id = 1, values = []))\n",
    "    values:List[Value] = []\n",
    "    for value in experiments[force].measurements[0].values:\n",
    "        values.append(Value(value= [values_to_value_map[force]], time= value.time))\n",
    "    experiments[force].external_measurements[0].values = deepcopy(values)\n",
    "    print(f\"Experiment pulling force {value}: {len(experiments[force].external_measurements[0].values)} ground truth values\")\n"
   ]
  },
  {
   "cell_type": "markdown",
   "metadata": {},
   "source": [
    "## Filter\n"
   ]
  },
  {
   "cell_type": "markdown",
   "metadata": {},
   "source": [
    "Concat all experiments"
   ]
  },
  {
   "cell_type": "code",
   "execution_count": null,
   "metadata": {},
   "outputs": [],
   "source": [
    "combined_experiment = deepcopy(experiments[accelerator_pedal_positions[0]])\n",
    "combined_experiment.name = f\"Non constant singals for accelerator pedal positions experiment\"\n",
    "combined_experiment.description = f\"Non constant signals for accelerator pedal positions experiment with {len(accelerator_pedal_position)} different accelerator pedal positions.\"\n",
    "\n",
    "for accelerator_pedal_position in accelerator_pedal_positions[1:]:\n",
    "    combined_experiment.experiment_runtime_seconds += experiments[accelerator_pedal_position].experiment_runtime_seconds\n",
    "    for measurement in experiments[accelerator_pedal_position].measurements:\n",
    "        for x in combined_experiment.measurements:\n",
    "            if x.serverid == measurement.serverid:\n",
    "                if x.did == measurement.did:\n",
    "                    x.values.extend(measurement.values)\n",
    "                    break\n"
   ]
  },
  {
   "cell_type": "markdown",
   "metadata": {},
   "source": [
    "Keep only non constant signals"
   ]
  },
  {
   "cell_type": "code",
   "execution_count": null,
   "metadata": {},
   "outputs": [],
   "source": [
    "number_measurements = len(combined_experiment.measurements)\n",
    "print(f\"Experiment contains {number_measurements} measurements before filtering\", )\n",
    "print(\"Applaying remove constant values filter\")\n",
    "\n",
    "combined_experiment.keep_non_constant_signals(combined_experiment)\n",
    "\n",
    "number_measurements = len(combined_experiment.measurements)\n",
    "print(f\"Experiment contains {number_measurements} measurements after filtering\", )"
   ]
  },
  {
   "cell_type": "markdown",
   "metadata": {},
   "source": [
    "Remove all previously found constant signals from individual experiments"
   ]
  },
  {
   "cell_type": "code",
   "execution_count": null,
   "metadata": {},
   "outputs": [],
   "source": [
    "for accelerator_pedal_position in accelerator_pedal_positions:\n",
    "    experiments[accelerator_pedal_position].keep_signals_by_list(signals_list=combined_experiment.measurements)\n",
    "    experiment_file = os.path.join(experiment_folder, f\"accelerator_pedal_position_{accelerator_pedal_position}.json\")\n",
    "    experiments[accelerator_pedal_position].save(f\"{experiment_file}\")\n",
    "    !python ../scripts_for_doip_new/display_experiment_metadata.py --experiment_file_path \"{experiment_file}\""
   ]
  },
  {
   "cell_type": "markdown",
   "metadata": {},
   "source": [
    "Save combined experiment file"
   ]
  },
  {
   "cell_type": "code",
   "execution_count": null,
   "metadata": {},
   "outputs": [],
   "source": [
    "combined_experiment_file = os.path.join(experiment_folder, f\"combined.json\")\n",
    "combined_experiment.save(f\"{combined_experiment_file}\")\n",
    "!python ../scripts_for_doip_new/display_experiment_metadata.py --experiment_file_path \"{combined_experiment_file}\""
   ]
  },
  {
   "cell_type": "markdown",
   "metadata": {},
   "source": [
    "### End of Experiment \n",
    "\n",
    "Continue with Linear evaluation"
   ]
  }
 ],
 "metadata": {
  "kernelspec": {
   "display_name": ".venv",
   "language": "python",
   "name": "python3"
  },
  "language_info": {
   "codemirror_mode": {
    "name": "ipython",
    "version": 3
   },
   "file_extension": ".py",
   "mimetype": "text/x-python",
   "name": "python",
   "nbconvert_exporter": "python",
   "pygments_lexer": "ipython3",
   "version": "3.11.1"
  }
 },
 "nbformat": 4,
 "nbformat_minor": 2
}
