{
 "cells": [
  {
   "cell_type": "markdown",
   "metadata": {},
   "source": [
    "# Steering Wheel Experiments\n",
    "## Imports"
   ]
  },
  {
   "cell_type": "code",
   "execution_count": null,
   "metadata": {},
   "outputs": [],
   "source": [
    "from pathlib import Path\n",
    "from datetime import date\n",
    "import os\n",
    "import subprocess\n",
    "from datetime import datetime\n",
    "from copy import deepcopy\n",
    "from revcan.reverse_engineering.models.experiment import Experiment"
   ]
  },
  {
   "cell_type": "markdown",
   "metadata": {},
   "source": [
    "## Create Necessary Experiment Files\n",
    "\n",
    "### TODO: \n",
    "Set & check the following parameters:\n",
    "- **Car Model File Name**: Specify the name of the car model file (`{model}_{vin}_{date-created}.json`).\n",
    "- **Car Model Directory**: Check the directory path where the car model file is stored (Default: `../../data/car_metadata`).\n",
    "- **Experiment Folder**: Set the path for the experiment folder where the results will be saved (Default: `../../data/experiments/{car}/{experiment}/{date-today}`)."
   ]
  },
  {
   "cell_type": "code",
   "execution_count": null,
   "metadata": {},
   "outputs": [],
   "source": [
    "car_model_file_name = \"model_vin_date-created.json\" # TODO: Set correct car model file name\n",
    "car_model_dir = \"../../data/car_metadata\" # TODO: Check directory of car model file\n",
    "experiment_folder = \"../../data/experiments/car/steering_wheel/\" + date.today().strftime(\"%Y-%m-%d\") # TODO: Set directory where experiment files should be saved to\n",
    "angles=[\"0\",\"90L\",\"180L\",\"360L\",\"90R\",\"180R\",\"360R\"]\n",
    "car_model_file = f\"{car_model_dir}/{car_model_file_name}\"\n",
    "car_model_file_path = os.path.abspath(car_model_file)\n",
    "\n",
    "\n",
    "Path(experiment_folder).mkdir(parents=True, exist_ok=True)\n",
    "\n",
    "angles=[\"0\",\"90L\",\"180L\",\"360L\",\"90R\",\"180R\",\"360R\"]\n",
    "\n",
    "for angle in angles:\n",
    "\n",
    "    experiment_file_path = os.path.join(experiment_folder, angle+\".json\")\n",
    "    experiment_name = f\"steering wheel {angle} deg\"\n",
    "    experiment_description = \"steering wheel signal discovery using 7 positions.\"\n",
    "    signal_selection =\"all\"\n",
    "    print(f\"Experiment file path: {experiment_file_path}\")\n",
    "    !python ../scripts_for_doip_new/04_create_experiment.py --car_model_file_path '{car_model_file_path}' --experiment_file_path '{experiment_file_path}' --experiment_name '{experiment_name}' --experiment_description '{experiment_description}' --signal_selection {signal_selection}\n",
    "\n",
    "\n"
   ]
  },
  {
   "cell_type": "markdown",
   "metadata": {},
   "source": [
    "## [Optional]: Set Experiment Names manually"
   ]
  },
  {
   "cell_type": "code",
   "execution_count": null,
   "metadata": {},
   "outputs": [],
   "source": [
    "car_model_file_name = \"model_vin_date-created.json\" # TODO: Set correct car model file name\n",
    "car_model_dir = \"../../data/car_metadata\" # TODO: Check directory of car model file\n",
    "experiment_folder = \"../../data/experiments/car/steering_wheel/\" + date.today().strftime(\"%Y-%m-%d\") # TODO: Set directory where experiment files should be saved to\n",
    "angles=[\"0\",\"90L\",\"180L\",\"360L\",\"90R\",\"180R\",\"360R\"]\n",
    "car_model_file = f\"{car_model_dir}/{car_model_file_name}\"\n",
    "car_model_file_path = os.path.abspath(car_model_file)"
   ]
  },
  {
   "cell_type": "markdown",
   "metadata": {},
   "source": [
    "# Measurements"
   ]
  },
  {
   "cell_type": "markdown",
   "metadata": {},
   "source": [
    "## Measurement - Steering wheel angle\n",
    "**Before** executing the next Cell:\n",
    "\n",
    "- Set steering wheel to required angle\n",
    "\n",
    "Start measurement\n",
    "\n",
    "\n",
    "In order to apply **pre-filtering** strategy:\n",
    "\n",
    "After **2** measurements: \n",
    "\n",
    "- execute the Filter Cells below and **return**\n",
    "- complete the remaining measurements.\n",
    "- Continue normal flow of cells."
   ]
  },
  {
   "cell_type": "markdown",
   "metadata": {},
   "source": [
    "## Measurement 0°\n",
    "Before executing the next Cell:\n",
    "\n",
    "Bring the steering wheel into the neutral position (0°)\n"
   ]
  },
  {
   "cell_type": "code",
   "execution_count": null,
   "metadata": {},
   "outputs": [],
   "source": [
    "!python ../scripts_for_doip_new/05_read_data_parallel_2.py --experiment_file_path '{os.path.join(experiment_folder, \"0\"+\".json\")}' --activate_logging false --num_samples 5\n"
   ]
  },
  {
   "cell_type": "markdown",
   "metadata": {},
   "source": [
    "## Measurement 90° left\n",
    "Before executing the next Cell:\n",
    "\n",
    "Bring the steering wheel into the 90° left position \n"
   ]
  },
  {
   "cell_type": "code",
   "execution_count": null,
   "metadata": {},
   "outputs": [],
   "source": [
    "!python ../scripts_for_doip_new/05_read_data.py --experiment_file_path '{os.path.join(experiment_folder, \"90L\"+\".json\")}' --activate_logging true --num_samples 5"
   ]
  },
  {
   "cell_type": "markdown",
   "metadata": {},
   "source": [
    "## Measurement 180° left\n",
    "Before executing the next Cell:\n",
    "\n",
    "Bring the steering wheel into the 180° left position "
   ]
  },
  {
   "cell_type": "code",
   "execution_count": null,
   "metadata": {},
   "outputs": [],
   "source": [
    "!python ../scripts_for_doip_new/05_read_data.py --experiment_file_path '{os.path.join(experiment_folder, \"180L\"+\".json\")}' --activate_logging true --num_samples 5"
   ]
  },
  {
   "cell_type": "markdown",
   "metadata": {},
   "source": [
    "## Measurement 360° left\n",
    "Before executing the next Cell:\n",
    "\n",
    "Bring the steering wheel into the 360° left position "
   ]
  },
  {
   "cell_type": "code",
   "execution_count": null,
   "metadata": {},
   "outputs": [],
   "source": [
    "!python ../scripts_for_doip_new/05_read_data.py --experiment_file_path '{os.path.join(experiment_folder, \"360L\"+\".json\")}' --activate_logging true --num_samples 5"
   ]
  },
  {
   "cell_type": "markdown",
   "metadata": {},
   "source": [
    "## Measurement 90° right\n",
    "Before executing the next Cell:\n",
    "\n",
    "Bring the steering wheel into the 90° right position "
   ]
  },
  {
   "cell_type": "code",
   "execution_count": null,
   "metadata": {},
   "outputs": [],
   "source": [
    "!python ../scripts_for_doip_new/05_read_data.py --experiment_file_path '{os.path.join(experiment_folder, \"90R\"+\".json\")}' --activate_logging true --num_samples 5"
   ]
  },
  {
   "cell_type": "markdown",
   "metadata": {},
   "source": [
    "## Measurement 180° right\n",
    "Before executing the next Cell:\n",
    "\n",
    "Bring the steering wheel into the 180° right position "
   ]
  },
  {
   "cell_type": "code",
   "execution_count": null,
   "metadata": {},
   "outputs": [],
   "source": [
    "!python ../scripts_for_doip_new/05_read_data.py --experiment_file_path '{os.path.join(experiment_folder, \"180R\"+\".json\")}' --activate_logging true --num_samples 5"
   ]
  },
  {
   "cell_type": "markdown",
   "metadata": {},
   "source": [
    "## Measurement 360° right\n",
    "Before executing the next Cell:\n",
    "\n",
    "Bring the steering wheel into the 360° right position "
   ]
  },
  {
   "cell_type": "code",
   "execution_count": null,
   "metadata": {},
   "outputs": [],
   "source": [
    "!python ../scripts_for_doip_new/05_read_data.py --experiment_file_path '{os.path.join(experiment_folder, \"360R\"+\".json\")}' --activate_logging true --num_samples 5"
   ]
  },
  {
   "cell_type": "markdown",
   "metadata": {},
   "source": [
    "# Evaluation"
   ]
  },
  {
   "cell_type": "markdown",
   "metadata": {},
   "source": [
    "## [Optional] Display Experiment Metadata"
   ]
  },
  {
   "cell_type": "code",
   "execution_count": null,
   "metadata": {},
   "outputs": [],
   "source": [
    "# Display Experiment\n",
    "for angle in angles:\n",
    "    experiment_file = os.path.join(experiment_folder, f\"{angle}.json\")\n",
    "    !python ../scripts_for_doip_new/display_experiment_metadata.py --experiment_file_path \"{experiment_file}\"\n"
   ]
  },
  {
   "cell_type": "markdown",
   "metadata": {},
   "source": [
    "## Load Experiments\n",
    "\n",
    "Load all relevant experiments needed for this analysis"
   ]
  },
  {
   "cell_type": "code",
   "execution_count": 6,
   "metadata": {},
   "outputs": [],
   "source": [
    "experiment_files = {}\n",
    "experiments = {}\n",
    "\n",
    "for angle in angles:\n",
    "    experiment_files[angle] = os.path.join(experiment_folder, f\"{angle}.json\")\n",
    "    experiments[angle] = Experiment.load(experiment_files[angle])\n",
    "pass\n"
   ]
  },
  {
   "cell_type": "markdown",
   "metadata": {},
   "source": [
    "## Add Ground truth\n",
    "Add ground truth data for steering wheel angle. By experiment design these are fixed values, and are added manually in this case"
   ]
  },
  {
   "cell_type": "code",
   "execution_count": null,
   "metadata": {},
   "outputs": [],
   "source": [
    "from datetime import timedelta\n",
    "import datetime\n",
    "from typing import List\n",
    "from copy import deepcopy\n",
    "from revcan.reverse_engineering.models.experiment import Extern_Signal, Value\n",
    "\n",
    "angles_to_value_map={\"0\":0,\"90L\":90,\"180L\":180,\"360L\":360,\"90R\":-90,\"180R\":-180,\"360R\":-360}\n",
    "\n",
    "\n",
    "for angle in angles:\n",
    "    experiments[angle].external_measurements.append(Extern_Signal( name = \"Angle\", id = 1, values = []))\n",
    "    values:List[Value] = []\n",
    "    for value in experiments[angle].measurements[0].values:\n",
    "        values.append(Value(value= [angles_to_value_map[angle]], time= value.time))\n",
    "    experiments[angle].external_measurements[0].values = deepcopy(values)\n",
    "    print(f\"Experiment Steering Wheel angle {angle}°: {len(experiments[angle].external_measurements[0].values)} ground truth values\")\n"
   ]
  },
  {
   "cell_type": "markdown",
   "metadata": {},
   "source": [
    "## Filter"
   ]
  },
  {
   "cell_type": "markdown",
   "metadata": {},
   "source": [
    "Concat all experiments"
   ]
  },
  {
   "cell_type": "code",
   "execution_count": null,
   "metadata": {},
   "outputs": [],
   "source": [
    "combined_experiment = experiments[angles[0]] \n",
    "combined_experiment.name = f\"Non constant singals for angle experiment\"\n",
    "combined_experiment.description = f\"Non constant signals for angle experiment with {len(angles)} different angles.\"\n",
    "\n",
    "for angle in angles[1:]:\n",
    "    combined_experiment.experiment_runtime_seconds += experiments[angle].experiment_runtime_seconds\n",
    "    for measurement in experiments[angle].measurements:\n",
    "        for x in combined_experiment.measurements:\n",
    "            if x.serverid == measurement.serverid:\n",
    "                if x.did == measurement.did:\n",
    "                    x.values.extend(measurement.values)\n",
    "                    break\n",
    "  \n"
   ]
  },
  {
   "cell_type": "markdown",
   "metadata": {},
   "source": [
    "Keep only non constant signals"
   ]
  },
  {
   "cell_type": "code",
   "execution_count": null,
   "metadata": {},
   "outputs": [],
   "source": [
    "number_measurements = len(combined_experiment.measurements)\n",
    "print(f\"Experiment contains {number_measurements} measurements before filtering\", )\n",
    "print(\"Applaying remove constant values filter\")\n",
    "\n",
    "combined_experiment.keep_non_constant_signals(combined_experiment)\n",
    "\n",
    "number_measurements = len(combined_experiment.measurements)\n",
    "print(f\"Experiment contains {number_measurements} measurements after filtering\", )"
   ]
  },
  {
   "cell_type": "markdown",
   "metadata": {},
   "source": [
    "Remove all previously found constant signals from individual experiments"
   ]
  },
  {
   "cell_type": "code",
   "execution_count": null,
   "metadata": {},
   "outputs": [],
   "source": [
    "for angle in angles:\n",
    "    experiments[angle].keep_signals_by_list(signals_list=combined_experiment.measurements)\n",
    "    experiment_file = os.path.join(experiment_folder, f\"{angle}.json\")\n",
    "    experiments[angle].save(f\"{experiment_file}\")\n",
    "    !python ../scripts_for_doip_new/display_experiment_metadata.py --experiment_file_path \"{experiment_file}\""
   ]
  },
  {
   "cell_type": "markdown",
   "metadata": {},
   "source": [
    "Save combined experiment file"
   ]
  },
  {
   "cell_type": "code",
   "execution_count": null,
   "metadata": {},
   "outputs": [],
   "source": [
    "combined_experiment_file = os.path.join(experiment_folder, f\"combined.json\")\n",
    "combined_experiment.save(f\"{combined_experiment_file}\")\n",
    "!python ../scripts_for_doip_new/display_experiment_metadata.py --experiment_file_path \"{combined_experiment_file}\""
   ]
  },
  {
   "cell_type": "markdown",
   "metadata": {},
   "source": [
    "### End of Experiment \n",
    "\n",
    "Continue with Linear evaluation"
   ]
  }
 ],
 "metadata": {
  "kernelspec": {
   "display_name": "revcan-Tm9u8sAl-py3.10",
   "language": "python",
   "name": "python3"
  },
  "language_info": {
   "codemirror_mode": {
    "name": "ipython",
    "version": 3
   },
   "file_extension": ".py",
   "mimetype": "text/x-python",
   "name": "python",
   "nbconvert_exporter": "python",
   "pygments_lexer": "ipython3",
   "version": "3.10.12"
  }
 },
 "nbformat": 4,
 "nbformat_minor": 2
}
