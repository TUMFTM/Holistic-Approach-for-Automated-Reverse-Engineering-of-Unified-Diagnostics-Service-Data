{
 "cells": [
  {
   "cell_type": "markdown",
   "metadata": {},
   "source": [
    "# Chassis Level (Ride Height) Experiments\n",
    "## Imports"
   ]
  },
  {
   "cell_type": "code",
   "execution_count": 1,
   "metadata": {},
   "outputs": [],
   "source": [
    "from pathlib import Path\n",
    "import os\n",
    "import subprocess\n",
    "from datetime import datetime\n",
    "from typing import List\n",
    "from copy import deepcopy\n",
    "from revcan.reverse_engineering.models.experiment import Experiment, Extern_Alphanumeric_Signal"
   ]
  },
  {
   "cell_type": "markdown",
   "metadata": {},
   "source": [
    "### Set Folder and File Names"
   ]
  },
  {
   "cell_type": "code",
   "execution_count": null,
   "metadata": {},
   "outputs": [],
   "source": [
    "car_model_file_name = \"model_vin_date-created.json\"\n",
    "car_model_dir = \"../../data/car_metadata\"\n",
    "experiment_folder = \"../../data/experiments/car/ride_height/\"\n",
    "\n",
    "car_model_file = f\"{car_model_dir}/{car_model_file_name}\"\n",
    "car_model_file_path = os.path.abspath(car_model_file)\n",
    "Path(experiment_folder).mkdir(parents=True, exist_ok=True)\n",
    "\n",
    "# Generate new folder for experiments\n",
    "timestamp = datetime.now().strftime(\"%Y-%m-%d_%H_%M_%S\")\n",
    "experiment_folder = os.path.join(experiment_folder, timestamp)\n",
    "Path(experiment_folder).mkdir(parents=True, exist_ok=True)"
   ]
  },
  {
   "cell_type": "markdown",
   "metadata": {},
   "source": [
    "## Create Necessary Experiments Files"
   ]
  },
  {
   "cell_type": "code",
   "execution_count": null,
   "metadata": {},
   "outputs": [],
   "source": [
    "car_model_file = f\"{car_model_dir}/{car_model_file_name}\"\n",
    "car_model_file_path = os.path.abspath(car_model_file)\n",
    "Path(experiment_folder).mkdir(parents=True, exist_ok=True)\n",
    "\n",
    "ride_heights=[\"Lift\",\"Mittel\",\"Abgesenkt\",\"Tief\"]\n",
    "\n",
    "print(f\"Car model file path: {car_model_file_path}\")\n",
    "\n",
    "for ride_height in ride_heights:\n",
    "\n",
    "    experiment_file_path = os.path.join(experiment_folder, \"ride_height_\"+ride_height+\".json\")\n",
    "    experiment_name = f\"Ride height - {ride_height}\"\n",
    "    experiment_description = \"ride height signal discovery using 4 levels.\"\n",
    "    signal_selection =\"all\"\n",
    "    print(f\"Experiment file path: {experiment_file_path}\")\n",
    "    !python ../scripts_for_doip_new/04_create_experiment.py --car_model_file_path {car_model_file_path} --experiment_file_path '{experiment_file_path}' --experiment_name '{experiment_name}' --experiment_description '{experiment_description}' --signal_selection {signal_selection}\n",
    "\n"
   ]
  },
  {
   "cell_type": "markdown",
   "metadata": {},
   "source": [
    "## [Optional]: Set Experiment Names manually"
   ]
  },
  {
   "cell_type": "code",
   "execution_count": null,
   "metadata": {},
   "outputs": [],
   "source": [
    "car_model_file_name = \"model_vin_date-created.json\"\n",
    "car_model_dir = \"../../data/car_metadata\"\n",
    "experiment_folder = \"../../data/experiments/car/ride_height/2025-06-02_17_25_17\"\n",
    "ride_heights=[\"Lift\",\"Mittel\",\"Abgesenkt\",\"Tief\"]\n",
    "\n",
    "from pathlib import Path\n",
    "import os\n",
    "import subprocess\n",
    "from datetime import datetime\n",
    "\n",
    "car_model_file = f\"{car_model_dir}/{car_model_file_name}\"\n",
    "car_model_file_path = os.path.abspath(car_model_file)\n",
    "Path(experiment_folder).mkdir(parents=True, exist_ok=True)"
   ]
  },
  {
   "cell_type": "markdown",
   "metadata": {},
   "source": [
    "# Measurements"
   ]
  },
  {
   "cell_type": "markdown",
   "metadata": {},
   "source": [
    "## Measurement \"Lift\"\n",
    "Before executing the next Cell:\n",
    "\n",
    "Set the ride height to \"Lift\".\n"
   ]
  },
  {
   "cell_type": "code",
   "execution_count": null,
   "metadata": {},
   "outputs": [],
   "source": [
    "ride_height = \"Lift\"\n",
    "experiment_path = os.path.join(experiment_folder, f\"ride_height_{ride_height}.json\")\n",
    "!python ../scripts_for_doip_new/05_read_data.py --experiment_file_path \"{experiment_path}\" --activate_logging true --num_samples 5\n"
   ]
  },
  {
   "cell_type": "markdown",
   "metadata": {},
   "source": [
    "## Measurement \"Mittel\" (Normal)\n",
    "Before executing the next Cell:\n",
    "\n",
    "Set the ride height to \"Mittel\"."
   ]
  },
  {
   "cell_type": "code",
   "execution_count": null,
   "metadata": {},
   "outputs": [],
   "source": [
    "ride_height = \"Mittel\"\n",
    "experiment_path = os.path.join(experiment_folder, f\"ride_height_{ride_height}.json\")\n",
    "!python ../scripts_for_doip_new/05_read_data.py --experiment_file_path \"{experiment_path}\" --activate_logging true --num_samples 5"
   ]
  },
  {
   "cell_type": "markdown",
   "metadata": {},
   "source": [
    "## Measurement \"Abgesenkt\" (Lowered)\n",
    "Before executing the next Cell:\n",
    "\n",
    "Set the ride height to \"Abgesenkt\"."
   ]
  },
  {
   "cell_type": "code",
   "execution_count": null,
   "metadata": {},
   "outputs": [],
   "source": [
    "ride_height = \"Abgesenkt\"\n",
    "experiment_path = os.path.join(experiment_folder, f\"ride_height_{ride_height}.json\")\n",
    "!python ../scripts_for_doip_new/05_read_data.py --experiment_file_path \"{experiment_path}\" --activate_logging true --num_samples 5"
   ]
  },
  {
   "cell_type": "markdown",
   "metadata": {},
   "source": [
    "## Measurement \"Tief\" (Low)\n",
    "Before executing the next Cell:\n",
    "\n",
    "Set the ride height to \"Tief\"."
   ]
  },
  {
   "cell_type": "code",
   "execution_count": null,
   "metadata": {},
   "outputs": [],
   "source": [
    "ride_height = \"Tief\"\n",
    "experiment_path = os.path.join(experiment_folder, f\"ride_height_{ride_height}.json\")\n",
    "!python ../scripts_for_doip_new/05_read_data.py --experiment_file_path \"{experiment_path}\" --activate_logging true --num_samples 5"
   ]
  },
  {
   "cell_type": "markdown",
   "metadata": {},
   "source": [
    "# Evaluation"
   ]
  },
  {
   "cell_type": "markdown",
   "metadata": {},
   "source": [
    "## [Optional] Display Experiment Metadata"
   ]
  },
  {
   "cell_type": "code",
   "execution_count": null,
   "metadata": {},
   "outputs": [],
   "source": [
    "# Display Experiment\n",
    "for ride_height in ride_heights:\n",
    "    experiment_file = os.path.join(experiment_folder, f\"ride_height_{ride_height}.json\")\n",
    "    !python ../scripts_for_doip_new/display_experiment_metadata.py --experiment_file_path \"{experiment_file}\"\n"
   ]
  },
  {
   "cell_type": "markdown",
   "metadata": {},
   "source": [
    "## Load Experiments\n",
    "\n",
    "Load all relevant experiments needed for this analysis"
   ]
  },
  {
   "cell_type": "code",
   "execution_count": 17,
   "metadata": {},
   "outputs": [],
   "source": [
    "experiment_files = {}\n",
    "experiments = {}\n",
    "\n",
    "for ride_height in ride_heights:\n",
    "    experiment_files[ride_height] = os.path.join(experiment_folder, f\"ride_height_{ride_height}.json\")\n",
    "    experiments[ride_height] = Experiment.load(experiment_files[ride_height])"
   ]
  },
  {
   "cell_type": "markdown",
   "metadata": {},
   "source": [
    "## Add Ground truth\n",
    "Add ground truth data for steering wheel angle. By experiment design these are fixed values, and are added manually in this case"
   ]
  },
  {
   "cell_type": "code",
   "execution_count": null,
   "metadata": {},
   "outputs": [],
   "source": [
    "for ride_height in ride_heights:\n",
    "    experiments[ride_height].external_alphanumeric_measurements.append(Extern_Alphanumeric_Signal( name = \"Gear\", id = 1, values = []))\n",
    "    values:List[str] = []\n",
    "    for value in experiments[ride_height].measurements[0].values:\n",
    "        values.append(ride_height)\n",
    "    experiments[ride_height].external_alphanumeric_measurements[0].name = \"Gear\"\n",
    "    experiments[ride_height].external_alphanumeric_measurements[0].values = deepcopy(values)\n",
    "    print(f\"Experiment ride height {ride_height}: {len(experiments[ride_height].external_alphanumeric_measurements[0].values)} ground truth values\")"
   ]
  },
  {
   "cell_type": "markdown",
   "metadata": {},
   "source": [
    "## Concat all experiments to combined_experiment"
   ]
  },
  {
   "cell_type": "code",
   "execution_count": 19,
   "metadata": {},
   "outputs": [],
   "source": [
    "combined_experiment = deepcopy(experiments[ride_heights[0]])\n",
    "combined_experiment.name = f\"Non constant singals for ride height experiment\"\n",
    "combined_experiment.description = f\"Non constant signals for ride height experiment with {len(ride_heights)} different ride_heights.\"\n",
    "\n",
    "for ride_height in ride_heights[1:]:\n",
    "    combined_experiment.experiment_runtime_seconds += experiments[ride_height].experiment_runtime_seconds\n",
    "    for measurement in experiments[ride_height].measurements:\n",
    "        for x in combined_experiment.measurements:\n",
    "            if x.serverid == measurement.serverid:\n",
    "                if x.did == measurement.did:\n",
    "                    x.values.extend(measurement.values)\n",
    "                    break\n",
    "    combined_experiment.external_alphanumeric_measurements[0].values.extend(experiments[ride_height].external_alphanumeric_measurements[0].values)\n"
   ]
  },
  {
   "cell_type": "markdown",
   "metadata": {},
   "source": [
    "## Filter\n",
    "\n",
    "Keep only non constant signals"
   ]
  },
  {
   "cell_type": "code",
   "execution_count": null,
   "metadata": {},
   "outputs": [],
   "source": [
    "number_measurements = len(combined_experiment.measurements)\n",
    "print(f\"Experiment contains {number_measurements} measurements before filtering\", )\n",
    "print(\"Applaying remove constant values filter\")\n",
    "\n",
    "combined_experiment.keep_non_constant_signals(combined_experiment)\n",
    "\n",
    "number_measurements = len(combined_experiment.measurements)\n",
    "print(f\"Experiment contains {number_measurements} measurements after filtering\", )"
   ]
  },
  {
   "cell_type": "markdown",
   "metadata": {},
   "source": [
    "## Save combined experiment file"
   ]
  },
  {
   "cell_type": "code",
   "execution_count": null,
   "metadata": {},
   "outputs": [],
   "source": [
    "combined_experiment_file = os.path.join(experiment_folder, f\"experiment_non_constant_signals.json\")\n",
    "combined_experiment.save(f\"{combined_experiment_file}\")\n",
    "!python ../scripts_for_doip_new/display_experiment_metadata.py --experiment_file_path \"{combined_experiment_file}\""
   ]
  },
  {
   "cell_type": "markdown",
   "metadata": {},
   "source": [
    "## [OPTIONAL] Remove all previously found constant signals from individual experiments"
   ]
  },
  {
   "cell_type": "code",
   "execution_count": null,
   "metadata": {},
   "outputs": [],
   "source": [
    "combined_experiment_file = os.path.join(experiment_folder, f\"combined_experiment.json\")\n",
    "combined_experiment = Experiment.load(combined_experiment_file)\n",
    "\n",
    "for ride_height in ride_heights:\n",
    "    experiments[ride_height].keep_signals_by_list(signals_list=combined_experiment.measurements)\n",
    "    experiment_file = os.path.join(experiment_folder, f\"ride_height_{ride_height}.json\")\n",
    "    experiments[ride_height].save(f\"{experiment_file}\")\n",
    "    !python ../scripts_for_doip_new/display_experiment_metadata.py --experiment_file_path \"{experiment_file}\""
   ]
  }
 ],
 "metadata": {
  "kernelspec": {
   "display_name": "revcan-Tm9u8sAl-py3.10",
   "language": "python",
   "name": "python3"
  },
  "language_info": {
   "codemirror_mode": {
    "name": "ipython",
    "version": 3
   },
   "file_extension": ".py",
   "mimetype": "text/x-python",
   "name": "python",
   "nbconvert_exporter": "python",
   "pygments_lexer": "ipython3",
   "version": "3.10.12"
  }
 },
 "nbformat": 4,
 "nbformat_minor": 2
}
