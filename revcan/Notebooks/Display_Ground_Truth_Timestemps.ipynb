{
 "cells": [
  {
   "cell_type": "markdown",
   "id": "c34f4271",
   "metadata": {},
   "source": [
    "# Display Ground Truth Timestamp\n",
    "\n",
    "For debugging only."
   ]
  },
  {
   "cell_type": "code",
   "execution_count": 3,
   "id": "195e2313",
   "metadata": {},
   "outputs": [],
   "source": [
    "from pathlib import Path\n",
    "import os\n",
    "from datetime import datetime\n",
    "from typing import List\n",
    "import pandas as pd\n",
    "from copy import deepcopy\n",
    "from revcan.reverse_engineering.models.experiment import Extern_Signal, Value, Experiment, Signal\n",
    "import torch\n",
    "import torch.nn as nn\n",
    "import torch.optim as optim\n",
    "from torch.utils.data import DataLoader, TensorDataset\n",
    "import numpy as np\n",
    "from colorama import Fore, Style"
   ]
  },
  {
   "cell_type": "code",
   "execution_count": null,
   "id": "1110a36d",
   "metadata": {},
   "outputs": [],
   "source": [
    "# TODO: Set name and folder of experiment\n",
    "experiment_name = \"experiment_non_constant_signals\"\n",
    "experiment_folder = \"../../data/experiments/car/steering_wheel/2025-03-13_10_02_04\"\n",
    "\n",
    "Path(experiment_folder).mkdir(parents=True, exist_ok=True)\n",
    "\n",
    "experiment_file = os.path.join(experiment_folder, f\"{experiment_name}.json\")\n",
    "experiment = Experiment.load(experiment_file)\n",
    "\n",
    "!python ../scripts_for_doip_new/display_experiment_metadata.py --experiment_file_path \"{experiment_file}\""
   ]
  },
  {
   "cell_type": "code",
   "execution_count": null,
   "id": "a11336f0",
   "metadata": {},
   "outputs": [],
   "source": [
    "# Check that all required signals exist\n",
    "if (\n",
    "    experiment.measurements and \n",
    "    experiment.external_measurements\n",
    "):\n",
    "    first_signal = experiment.measurements[0]\n",
    "    external_numeric = experiment.external_measurements[0]\n",
    "\n",
    "    # Build the DataFrame\n",
    "    df = pd.DataFrame({\n",
    "        \"ID\": range(1, len(first_signal.values) + 1),\n",
    "        \"Timestamp\": [val.time for val in first_signal.values],\n",
    "        \"External_Numeric\": [val.value for val in external_numeric.values[:len(first_signal.values)]]\n",
    "    })\n",
    "\n",
    "    # Sort by timestamp\n",
    "    df_sorted = df.sort_values(by=\"Timestamp\").reset_index(drop=True)\n",
    "\n",
    "    # Display the result\n",
    "    display(df_sorted)\n",
    "else:\n",
    "    print(\"Insufficient data: Make sure internal and external numeric are available.\")\n"
   ]
  },
  {
   "cell_type": "code",
   "execution_count": null,
   "id": "654d7ea7",
   "metadata": {},
   "outputs": [],
   "source": [
    "# Check that all required signals exist\n",
    "if (\n",
    "    experiment.measurements and \n",
    "    experiment.external_alphanumeric_measurements\n",
    "):\n",
    "    first_signal = experiment.measurements[0]\n",
    "    external_alpha = experiment.external_alphanumeric_measurements[0]\n",
    "\n",
    "    # Build the DataFrame\n",
    "    df = pd.DataFrame({\n",
    "        \"ID\": range(1, len(first_signal.values) + 1),\n",
    "        \"Timestamp\": [val.time for val in first_signal.values],\n",
    "        \"External_Alphanumeric\": external_alpha.values[:len(first_signal.values)]\n",
    "    })\n",
    "\n",
    "    # Sort by timestamp\n",
    "    df_sorted = df.sort_values(by=\"Timestamp\").reset_index(drop=True)\n",
    "\n",
    "    # Display the result\n",
    "    display(df_sorted)\n",
    "else:\n",
    "    print(\"Insufficient data: Make sure internal and external alphanumeric signals are available.\")"
   ]
  }
 ],
 "metadata": {
  "kernelspec": {
   "display_name": "revcan-Tm9u8sAl-py3.10",
   "language": "python",
   "name": "python3"
  },
  "language_info": {
   "codemirror_mode": {
    "name": "ipython",
    "version": 3
   },
   "file_extension": ".py",
   "mimetype": "text/x-python",
   "name": "python",
   "nbconvert_exporter": "python",
   "pygments_lexer": "ipython3",
   "version": "3.10.12"
  }
 },
 "nbformat": 4,
 "nbformat_minor": 5
}
