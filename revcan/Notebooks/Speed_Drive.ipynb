{
 "cells": [
  {
   "cell_type": "markdown",
   "metadata": {},
   "source": [
    "# Speed Experiments (Gear: Drive)\n",
    "\n",
    "## Imports"
   ]
  },
  {
   "cell_type": "code",
   "execution_count": null,
   "metadata": {},
   "outputs": [],
   "source": [
    "from pathlib import Path\n",
    "from datetime import date\n",
    "import os\n",
    "import subprocess\n",
    "from datetime import datetime\n",
    "from copy import deepcopy\n",
    "from revcan.reverse_engineering.models.experiment import Experiment"
   ]
  },
  {
   "cell_type": "markdown",
   "metadata": {},
   "source": [
    "## Create Necessary Experiment Files\n",
    "\n",
    "### TODO: \n",
    "Set & check the following parameters:\n",
    "- **Car Model File Name**: Specify the name of the car model file (`{model}_{vin}_{date-created}.json`).\n",
    "- **Car Model Directory**: Check the directory path where the car model file is stored (Default: `../../data/car_metadata`).\n",
    "- **Experiment Folder**: Set the path for the experiment folder where the results will be saved (Default: `../../data/experiments/{car}/{experiment}/{date-today}`)."
   ]
  },
  {
   "cell_type": "code",
   "execution_count": null,
   "metadata": {},
   "outputs": [],
   "source": [
    "car_model_file_name = \"model_vin_date-created.json\" # TODO: Set correct car model file name\n",
    "car_model_dir = \"../../data/car_metadata\" # TODO: Check directory of car model file\n",
    "experiment_folder = \"../../data/experiments/car/speed-drive/\" + date.today().strftime(\"%Y-%m-%d\") # TODO: Set directory where experiment files should be saved to\n",
    "\n",
    "car_model_file = f\"{car_model_dir}/{car_model_file_name}\"\n",
    "car_model_file_path = os.path.abspath(car_model_file)\n",
    "Path(experiment_folder).mkdir(parents=True, exist_ok=True)\n",
    "\n",
    "speeds=[\"10\",\"20\",\"30\",\"40\",\"50\",\"60\",\"70\",\"80\",\"90\",\"100\",\"110\",\"120\"]\n",
    "\n",
    "for speed in speeds:\n",
    "\n",
    "    experiment_file_path = os.path.join(experiment_folder, speed+\"kmh.json\")\n",
    "    experiment_name = f\"Speed experiment {speed} km/h\"\n",
    "    experiment_description = \"speed signal discovery using 13 different speeds.\"\n",
    "    signal_selection =\"all\"\n",
    "    print(f\"Experiment file path: {experiment_file_path}\")\n",
    "    !python ../scripts_for_doip_new/04_create_experiment.py --car_model_file_path {car_model_file_path} --experiment_file_path '{experiment_file_path}' --experiment_name '{experiment_name}' --experiment_description '{experiment_description}' --signal_selection {signal_selection}\n"
   ]
  },
  {
   "cell_type": "markdown",
   "metadata": {},
   "source": [
    "## [Optional]: Set Experiment Names manually"
   ]
  },
  {
   "cell_type": "code",
   "execution_count": null,
   "metadata": {},
   "outputs": [],
   "source": [
    "car_model_file_name = \"model_vin_date-created.json\" # TODO: Set correct car model file name\n",
    "car_model_dir = \"../../data/car_metadata\" # TODO: Check directory of car model file\n",
    "experiment_folder = \"../../data/experiments/car/speed-drive/2025-02-25_10_34_26\"\n",
    "speeds=[\"10\",\"20\",\"30\",\"40\",\"50\",\"60\",\"70\",\"80\",\"90\",\"100\",\"110\",\"120\"]\n",
    "\n",
    "car_model_file = f\"{car_model_dir}/{car_model_file_name}\"\n",
    "car_model_file_path = os.path.abspath(car_model_file)\n"
   ]
  },
  {
   "cell_type": "markdown",
   "metadata": {},
   "source": [
    "## Measurements"
   ]
  },
  {
   "cell_type": "markdown",
   "metadata": {},
   "source": [
    "## Measurement - Speed x km/h\n",
    "**Before** executing the next Cell:\n",
    "\n",
    "- Put the car in **Drive**\n",
    "\n",
    "- Hold the speed of **x** km/h by pressing the **gas pedal**\n",
    "\n",
    "Start measurement\n",
    "\n",
    "\n",
    "In order to apply **pre-filtering** strategy:\n",
    "\n",
    "After **2** measurements: \n",
    "\n",
    "- execute the Filter Cells below and **return**\n",
    "- complete the remaining measurements.\n",
    "- Continue normal flow of cells.\n",
    "\n"
   ]
  },
  {
   "cell_type": "code",
   "execution_count": null,
   "metadata": {},
   "outputs": [],
   "source": [
    "speed = 10 #TODO set value which is tested\n",
    "sample_number = 4 #TODO set number of samples to record\n",
    "experiment_file_path = os.path.join(experiment_folder, speed+\"kmh.json\")\n",
    "!python ../scripts_for_doip_new/05_read_data.py --experiment_file_path \"{experiment_path}\" --activate_logging true --num_samples \"{sample_number}\""
   ]
  },
  {
   "cell_type": "markdown",
   "metadata": {},
   "source": [
    "## Evaluation"
   ]
  },
  {
   "cell_type": "markdown",
   "metadata": {},
   "source": [
    "## [Optional] Display Experiment Metadata"
   ]
  },
  {
   "cell_type": "code",
   "execution_count": null,
   "metadata": {},
   "outputs": [],
   "source": [
    "# Display Experiment\n",
    "for speed in speeds:\n",
    "    experiment_file = os.path.join(experiment_folder, f\"{speed}kmh.json\")\n",
    "    !python ../scripts_for_doip_new/display_experiment_metadata.py --experiment_file_path \"{experiment_file}\"\n"
   ]
  },
  {
   "cell_type": "markdown",
   "metadata": {},
   "source": [
    "## Load Experiments\n",
    "\n",
    "Load all relevant experiments needed for this analysis"
   ]
  },
  {
   "cell_type": "markdown",
   "metadata": {},
   "source": [
    "### Imports for Evaluation"
   ]
  },
  {
   "cell_type": "code",
   "execution_count": null,
   "metadata": {},
   "outputs": [],
   "source": [
    "experiment_files = {}\n",
    "experiments = {}\n",
    "\n",
    "for speed in speeds:\n",
    "    experiment_files[speed] = os.path.join(experiment_folder, f\"{speed}kmh.json\")\n",
    "    experiments[speed] = Experiment.load(experiment_files[speed])\n",
    "pass"
   ]
  },
  {
   "cell_type": "markdown",
   "metadata": {},
   "source": [
    "Add ground truth data for steering wheel angle. By experiment design these are fixed values, and are added manually in this case"
   ]
  },
  {
   "cell_type": "code",
   "execution_count": null,
   "metadata": {},
   "outputs": [],
   "source": [
    "from datetime import timedelta\n",
    "import datetime\n",
    "from typing import List\n",
    "from copy import deepcopy\n",
    "from revcan.reverse_engineering.models.experiment import Extern_Signal, Value\n",
    "\n",
    "for speed in speeds:\n",
    "    experiments[speed].external_measurements.append(Extern_Signal( name = \"Speed\", id = 1, values = []))\n",
    "    values:List[Value] = []\n",
    "    for value in experiments[speed].measurements[0].values:\n",
    "        values.append(Value(value= [speed], time= value.time))\n",
    "    experiments[speed].external_measurements[0].values = deepcopy(values)\n",
    "    print(f\"Experiment speed {speed} km/h: {len(experiments[speed].external_measurements[0].values)} ground truth values\")"
   ]
  },
  {
   "cell_type": "markdown",
   "metadata": {},
   "source": [
    "## Filter"
   ]
  },
  {
   "cell_type": "markdown",
   "metadata": {},
   "source": [
    "Concat all experiments"
   ]
  },
  {
   "cell_type": "code",
   "execution_count": null,
   "metadata": {},
   "outputs": [],
   "source": [
    "combined_experiment = deepcopy(experiments[speeds[0]])\n",
    "combined_experiment.name = f\"Non constant singals for speeds experiment\"\n",
    "combined_experiment.description = f\"Non constant signals for speeds experiment with {len(speeds)} different speeds.\"\n",
    "\n",
    "for speed in speeds[1:]:\n",
    "    combined_experiment.experiment_runtime_seconds += experiments[speed].experiment_runtime_seconds\n",
    "    for measurement in experiments[speed].measurements:\n",
    "        for x in combined_experiment.measurements:\n",
    "            if x.serverid == measurement.serverid:\n",
    "                if x.did == measurement.did:\n",
    "                    x.values.extend(measurement.values)\n",
    "                    break"
   ]
  },
  {
   "cell_type": "markdown",
   "metadata": {},
   "source": [
    "Keep only non constant signals"
   ]
  },
  {
   "cell_type": "code",
   "execution_count": null,
   "metadata": {},
   "outputs": [],
   "source": [
    "number_measurements = len(combined_experiment.measurements)\n",
    "print(f\"Experiment contains {number_measurements} measurements before filtering\", )\n",
    "print(\"Applaying remove constant values filter\")\n",
    "\n",
    "combined_experiment.keep_non_constant_signals(combined_experiment)\n",
    "\n",
    "number_measurements = len(combined_experiment.measurements)\n",
    "print(f\"Experiment contains {number_measurements} measurements after filtering\", )\n"
   ]
  },
  {
   "cell_type": "markdown",
   "metadata": {},
   "source": [
    "Remove all previously found constant signals from individual experiments"
   ]
  },
  {
   "cell_type": "code",
   "execution_count": null,
   "metadata": {},
   "outputs": [],
   "source": [
    "\n",
    "for speed in speeds:\n",
    "    experiments[speed].keep_signals_by_list(signals_list=combined_experiment.measurements)\n",
    "    experiment_file = os.path.join(experiment_folder, speed+\"kmh.json\")\n",
    "    experiments[speed].save(f\"{experiment_file}\")\n",
    "    !python ../scripts_for_doip_new/display_experiment_metadata.py --experiment_file_path \"{experiment_file}\"\n"
   ]
  },
  {
   "cell_type": "markdown",
   "metadata": {},
   "source": [
    "Save combined experiment file"
   ]
  },
  {
   "cell_type": "code",
   "execution_count": null,
   "metadata": {},
   "outputs": [],
   "source": [
    "combined_experiment_file = os.path.join(experiment_folder, f\"combined.json\")\n",
    "combined_experiment.save(f\"{combined_experiment_file}\")\n",
    "!python ../scripts_for_doip_new/display_experiment_metadata.py --experiment_file_path \"{combined_experiment_file}\""
   ]
  }
 ],
 "metadata": {
  "kernelspec": {
   "display_name": "revcan-Tm9u8sAl-py3.10",
   "language": "python",
   "name": "python3"
  },
  "language_info": {
   "codemirror_mode": {
    "name": "ipython",
    "version": 3
   },
   "file_extension": ".py",
   "mimetype": "text/x-python",
   "name": "python",
   "nbconvert_exporter": "python",
   "pygments_lexer": "ipython3",
   "version": "3.10.12"
  }
 },
 "nbformat": 4,
 "nbformat_minor": 2
}
