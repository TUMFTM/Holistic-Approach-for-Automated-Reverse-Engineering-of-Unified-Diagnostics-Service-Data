{
 "cells": [
  {
   "cell_type": "markdown",
   "metadata": {},
   "source": [
    "# DOIP Reverse Engineering Pipeline\n",
    "This notebook will guide you step by step through the process of finding all servers and all dids per server for a vehicle and saving the result to a file.\n",
    "\n",
    "## Submodules\n",
    "Here is a list of the currently used submodules:\n",
    "- [caringcaribou](https://github.com/CaringCaribou/caringcaribou)\n",
    "- [udsoncan](https://udsoncan.readthedocs.io/en/latest/)\n",
    "\n",
    "## Setup Submodules\n",
    "\n",
    "```bash\n",
    "git submodule init\n",
    "git submodule update --recursive\n",
    "```\n",
    "\n",
    "## Setup virtual environment & install necessary dependencies\n",
    "The dependencies are managed using poetry:\n",
    "\n",
    "```bash\n",
    "poetry install \n",
    "```\n",
    "\n",
    "### Imports"
   ]
  },
  {
   "cell_type": "code",
   "execution_count": 1,
   "metadata": {},
   "outputs": [],
   "source": [
    "import os\n",
    "from pathlib import Path\n",
    "from datetime import date\n"
   ]
  },
  {
   "cell_type": "markdown",
   "metadata": {},
   "source": [
    "## Pipeline Execution\n",
    "\n",
    "### Step 1: Create Car File\n",
    "\n",
    "TODO: Set the VIN and the model name\n"
   ]
  },
  {
   "cell_type": "code",
   "execution_count": null,
   "metadata": {},
   "outputs": [],
   "source": [
    "# TODO: Set VIN & model\n",
    "vin = \"test\" \n",
    "\n",
    "model = \"taycan\"\n",
    "\n",
    "\n",
    "output_dir = \"../../data/car_metadata\"\n",
    "Path(output_dir).mkdir(parents=True, exist_ok=True)\n",
    "print(os.path.abspath(output_dir))\n",
    "\n",
    "!python 00_create_car.py --vin {vin} --model '{model}' --file_path \"{output_dir}\"\n",
    "\n",
    "model = model.replace(' ', '_')\n",
    " \n",
    "# Automatically set car_model_path\n",
    "car_model_file = f\"{output_dir}/{model}_{vin}_{date.today().strftime('%Y-%m-%d')}.json\"\n",
    "car_model_path = os.path.abspath(car_model_file)\n",
    "print(f\"Car model path: {car_model_path}\")"
   ]
  },
  {
   "cell_type": "markdown",
   "metadata": {},
   "source": [
    "### Optional: Change car_model_path\n",
    "The car_model_path is automatically set during the creation of it."
   ]
  },
  {
   "cell_type": "code",
   "execution_count": null,
   "metadata": {},
   "outputs": [],
   "source": [
    "\n",
    "car_model_file_name = \"model_vin_date-created.json\"\n",
    "output_dir = \"../../data/car_metadata\"\n",
    "\n",
    "car_model_file = f\"{output_dir}/{car_model_file_name}\"\n",
    "car_model_path = os.path.abspath(car_model_file)\n",
    "print(f\"Car model path: {car_model_path}\")\n",
    "\n",
    "!python display_car_metadata.py --car_model_path {car_model_path}"
   ]
  },
  {
   "cell_type": "markdown",
   "metadata": {},
   "source": [
    "### Step 2: Discover Arbitration IDs"
   ]
  },
  {
   "cell_type": "code",
   "execution_count": null,
   "metadata": {},
   "outputs": [],
   "source": [
    "!python 00_discover_arbitration_ids.py --car_model_path {car_model_path}"
   ]
  },
  {
   "cell_type": "markdown",
   "metadata": {},
   "source": [
    "### Step 3: Discover Services"
   ]
  },
  {
   "cell_type": "code",
   "execution_count": 1,
   "metadata": {},
   "outputs": [
    {
     "name": "stdout",
     "output_type": "stream",
     "text": [
      "Error: The car model file at '{car_model_path}' was not found.\n"
     ]
    }
   ],
   "source": [
    "!python 01_discover_services.py --car_model_path {car_model_path}"
   ]
  },
  {
   "cell_type": "markdown",
   "metadata": {},
   "source": [
    "### Step 4: Discover Servers"
   ]
  },
  {
   "cell_type": "code",
   "execution_count": null,
   "metadata": {},
   "outputs": [],
   "source": [
    "!python 02_discover_servers.py --car_model_path {car_model_path} --activate_logging_flag true"
   ]
  },
  {
   "cell_type": "markdown",
   "metadata": {},
   "source": [
    "### Step 5: Discover DIDs\n",
    "\n",
    "Can be done sequential or in parallel.\n",
    "If done in parallel, set batch size in config.yaml file."
   ]
  },
  {
   "cell_type": "code",
   "execution_count": null,
   "metadata": {},
   "outputs": [],
   "source": [
    "#!python 03_discover_dids.py --car_model_path {car_model_path} --activate_logging_flag true\n",
    "!python 03_discover_dids_parallel.py --car_model_path {car_model_path} --activate_logging_flag true"
   ]
  },
  {
   "cell_type": "markdown",
   "metadata": {},
   "source": [
    "### Optional: Display discovered vehicle metadata"
   ]
  },
  {
   "cell_type": "code",
   "execution_count": null,
   "metadata": {},
   "outputs": [],
   "source": [
    "!python display_car_metadata.py --car_model_path {car_model_path}"
   ]
  }
 ],
 "metadata": {
  "kernelspec": {
   "display_name": ".venv",
   "language": "python",
   "name": "python3"
  },
  "language_info": {
   "codemirror_mode": {
    "name": "ipython",
    "version": 3
   },
   "file_extension": ".py",
   "mimetype": "text/x-python",
   "name": "python",
   "nbconvert_exporter": "python",
   "pygments_lexer": "ipython3",
   "version": "3.11.1"
  }
 },
 "nbformat": 4,
 "nbformat_minor": 2
}
